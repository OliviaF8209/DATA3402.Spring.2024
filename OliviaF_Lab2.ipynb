{
 "cells": [
  {
   "cell_type": "markdown",
   "metadata": {},
   "source": [
    "## Lab 2- Tic Tac Toe\n",
    "\n",
    "In this lab your will build a n x n Tic Tac Toe game. As you do the exercises, make sure your solutions work for any size Tic Tac Toe game. "
   ]
  },
  {
   "cell_type": "markdown",
   "metadata": {},
   "source": [
    "*Exercise 1:* Write a function that creates an n by n matrix (of list of lists) which will represent the state of a Tie Tac Toe game. Let 0, 1, and 2 represent empty, \"X\", and \"O\", respectively.\n"
   ]
  },
  {
   "cell_type": "code",
   "execution_count": 8,
   "metadata": {},
   "outputs": [],
   "source": [
    "def ttt_board(size=3):\n",
    "    return [[0]*size for _ in range(size)]"
   ]
  },
  {
   "cell_type": "code",
   "execution_count": 9,
   "metadata": {},
   "outputs": [
    {
     "data": {
      "text/plain": [
       "[[0, 0, 0], [0, 0, 0], [0, 0, 0]]"
      ]
     },
     "execution_count": 9,
     "metadata": {},
     "output_type": "execute_result"
    }
   ],
   "source": [
    "game=ttt_board(3)\n",
    "game"
   ]
  },
  {
   "cell_type": "markdown",
   "metadata": {},
   "source": [
    "*Exercise 2:* Write a function that takes 2 integers `n` and `m` as input and draws a `n` by `m` game board. For example the following is a 3x3 board:\n",
    "```\n",
    "   --- --- --- \n",
    "  |   |   |   | \n",
    "   --- --- ---  \n",
    "  |   |   |   | \n",
    "   --- --- ---  \n",
    "  |   |   |   | \n",
    "   --- --- --- \n",
    "   ```"
   ]
  },
  {
   "cell_type": "code",
   "execution_count": 10,
   "metadata": {},
   "outputs": [],
   "source": [
    "def draw_board(n, m):\n",
    "    for i in range(n):\n",
    "        print(\"---\"*m)\n",
    "        print(\"|  \"*(m+1))\n",
    "    print(\"---\"*m)"
   ]
  },
  {
   "cell_type": "code",
   "execution_count": 11,
   "metadata": {},
   "outputs": [
    {
     "name": "stdout",
     "output_type": "stream",
     "text": [
      "---------\n",
      "|  |  |  |  \n",
      "---------\n",
      "|  |  |  |  \n",
      "---------\n",
      "|  |  |  |  \n",
      "---------\n"
     ]
    }
   ],
   "source": [
    "rows = 3\n",
    "columns = 3\n",
    "draw_board(rows, columns)\n"
   ]
  },
  {
   "cell_type": "markdown",
   "metadata": {},
   "source": [
    "*Exercise 3:* Modify exercise 2, so that it takes a matrix of the form from exercise 1 and draws a tic-tac-tie board with \"X\"s and \"O\"s.  "
   ]
  },
  {
   "cell_type": "code",
   "execution_count": 12,
   "metadata": {},
   "outputs": [],
   "source": [
    "def draw_ttt_board(matrix):\n",
    "    for row in matrix:\n",
    "        print(\"| \" + \" | \".join([\"XO \"[cell] for cell in row]) + \" |\")\n",
    "        print(\"-\" * (4 * len(row) - 1))\n"
   ]
  },
  {
   "cell_type": "code",
   "execution_count": 13,
   "metadata": {},
   "outputs": [
    {
     "name": "stdout",
     "output_type": "stream",
     "text": [
      "| O |   | O |\n",
      "-----------\n",
      "| X |   | X |\n",
      "-----------\n",
      "| X | X | O |\n",
      "-----------\n"
     ]
    }
   ],
   "source": [
    "tic_tac_toe_board = [[1, 2, 1],\n",
    "                     [0, 2, 0],\n",
    "                     [0, 0, 1]]\n",
    "\n",
    "draw_ttt_board(tic_tac_toe_board)"
   ]
  },
  {
   "cell_type": "markdown",
   "metadata": {},
   "source": [
    "*Exercise 4:* Write a function that takes a `n` by `n` matrix representing a tic-tac-toe game, and returns -1, 0, 1, or 2 indicating the game is incomplete, the game is a draw, player 1 has won, or player 2 has one, respectively. Here are some example inputs you can use to test your code:"
   ]
  },
  {
   "cell_type": "code",
   "execution_count": 14,
   "metadata": {},
   "outputs": [
    {
     "name": "stdout",
     "output_type": "stream",
     "text": [
      "Result: -1\n"
     ]
    }
   ],
   "source": [
    "def check_ttt(board):\n",
    "    n = len(board)\n",
    "    b = [row[:] for row in board] \n",
    "    \n",
    "    for i in range(n):\n",
    "        if all(b[i][j] == b[j][i] == b[i][0] != 0 for j in range(n)):\n",
    "            return b[i][0]\n",
    "\n",
    "    if all(b[i][i] == b[i][n - i - 1] == b[i][0] != 0 for i in range(n)):\n",
    "        return b[0][0]\n",
    "\n",
    "    return -1 if any(0 in r for r in b) else 0\n",
    "\n",
    "check_ttt_board = [[1, 2, 1],\n",
    "                   [0, 2, 0],\n",
    "                   [0, 0, 1]]\n",
    "\n",
    "result = check_ttt(check_ttt_board)\n",
    "print(\"Result:\", result)\n"
   ]
  },
  {
   "cell_type": "code",
   "execution_count": 15,
   "metadata": {},
   "outputs": [],
   "source": [
    "## Example that was given"
   ]
  },
  {
   "cell_type": "code",
   "execution_count": 16,
   "metadata": {},
   "outputs": [],
   "source": [
    "winner_is_2 = [[2, 2, 0],\n",
    "\t[2, 1, 0],\n",
    "\t[2, 1, 1]]\n",
    "\n",
    "winner_is_1 = [[1, 2, 0],\n",
    "\t[2, 1, 0],\n",
    "\t[2, 1, 1]]\n",
    "\n",
    "winner_is_also_1 = [[0, 1, 0],\n",
    "\t[2, 1, 0],\n",
    "\t[2, 1, 1]]\n",
    "\n",
    "no_winner = [[1, 2, 0],\n",
    "\t[2, 1, 0],\n",
    "\t[2, 1, 2]]\n",
    "\n",
    "also_no_winner = [[1, 2, 0],\n",
    "\t[2, 1, 0],\n",
    "\t[2, 1, 0]]"
   ]
  },
  {
   "cell_type": "markdown",
   "metadata": {},
   "source": [
    "*Exercise 5:* Write a function that takes a game board, player number, and `(x,y)` coordinates and places \"X\" or \"O\" in the correct location of the game board. Make sure that you only allow filling previously empty locations. Return `True` or `False` to indicate successful placement of \"X\" or \"O\"."
   ]
  },
  {
   "cell_type": "code",
   "execution_count": 17,
   "metadata": {},
   "outputs": [],
   "source": [
    "def place_marker(board, player, x, y):\n",
    "    if board[x][y] == 0:\n",
    "        board[x][y] = player\n",
    "        return True\n",
    "    return False"
   ]
  },
  {
   "cell_type": "code",
   "execution_count": 18,
   "metadata": {},
   "outputs": [
    {
     "name": "stdout",
     "output_type": "stream",
     "text": [
      "Successful placement: True\n",
      "Updated Game Board:\n",
      "[0, 0, 0]\n",
      "[0, 'X', 0]\n",
      "[0, 0, 0]\n"
     ]
    }
   ],
   "source": [
    "game_board = [[0, 0, 0],\n",
    "              [0, 0, 0],\n",
    "              [0, 0, 0]]\n",
    "\n",
    "player_number = \"X\"\n",
    "coordinates = (1, 1)\n",
    "\n",
    "success = place_marker(game_board, player_number, *coordinates)\n",
    "print(\"Successful placement:\", success)\n",
    "print(\"Updated Game Board:\")\n",
    "for row in game_board:\n",
    "    print(row)"
   ]
  },
  {
   "cell_type": "markdown",
   "metadata": {},
   "source": [
    "*Exercise 6:* Modify Exercise 4 to show column and row labels so that players can specify location using \"A2\" or \"C1\"."
   ]
  },
  {
   "cell_type": "code",
   "execution_count": 19,
   "metadata": {},
   "outputs": [],
   "source": [
    "def ttt_updated(matrix):\n",
    "    print(\"  1  2  3\")\n",
    "    for i, row in enumerate(matrix):\n",
    "        print(chr(ord('A') + i), end=\" \")\n",
    "        print(\" | \".join([\"X\" if cell == 1 else \"O\" if cell == 2 else \" \" for cell in row]))\n",
    "        if i < len(matrix) - 1:\n",
    "            print(\"  ---------\")"
   ]
  },
  {
   "cell_type": "code",
   "execution_count": 20,
   "metadata": {},
   "outputs": [
    {
     "name": "stdout",
     "output_type": "stream",
     "text": [
      "  1  2  3\n",
      "A X | O | X\n",
      "  ---------\n",
      "B   | O |  \n",
      "  ---------\n",
      "C   |   | X\n"
     ]
    }
   ],
   "source": [
    "winner = [[1, 2, 1],\n",
    "          [0, 2, 0],\n",
    "          [0, 0, 1]]\n",
    "\n",
    "ttt_updated(winner)"
   ]
  },
  {
   "cell_type": "markdown",
   "metadata": {},
   "source": [
    "*Exercise 7:* Write a function that takes a board, player number, and location specified as in exercise 6 and then calls exercise 5 to correctly modify the board.  "
   ]
  },
  {
   "cell_type": "code",
   "execution_count": 21,
   "metadata": {},
   "outputs": [],
   "source": [
    "def place_marker(board, player, x, y):\n",
    "    if board[x][y] == 0:\n",
    "        board[x][y] = player\n",
    "        return True\n",
    "    return False\n",
    "\n",
    "def modify_board(board, player, label):\n",
    "    col = ord(label[0].upper()) - 65\n",
    "    row = int(label[1]) - 1\n",
    "    return place_marker(board, player, row, col)\n",
    "\n",
    "def label_board(board):\n",
    "    labeled_board = [['   A B C']]\n",
    "    for i, row in enumerate(board):\n",
    "        labeled_row = [f\"{i + 1} {' '.join('XO '[cell] for cell in row)}\"]\n",
    "        labeled_board.append(labeled_row)\n",
    "    return labeled_board"
   ]
  },
  {
   "cell_type": "code",
   "execution_count": 22,
   "metadata": {},
   "outputs": [
    {
     "name": "stdout",
     "output_type": "stream",
     "text": [
      "Successful placement: True\n",
      "Updated Game Board:\n",
      "[0, 0, 0]\n",
      "[0, 1, 0]\n",
      "[0, 0, 0]\n",
      "   A B C\n",
      "1 X X X\n",
      "2 X O X\n",
      "3 X X X\n"
     ]
    }
   ],
   "source": [
    "game_board = [[0, 0, 0],\n",
    "              [0, 0, 0],\n",
    "              [0, 0, 0]]\n",
    "\n",
    "player_number = 1\n",
    "coordinates = \"B2\"\n",
    "\n",
    "success = modify_board(game_board, player_number, coordinates)\n",
    "print(\"Successful placement:\", success)\n",
    "print(\"Updated Game Board:\")\n",
    "for row in game_board:\n",
    "    print(row)\n",
    "labeled_board = label_board(game_board)\n",
    "for row in labeled_board:\n",
    "    print(''.join(row))"
   ]
  },
  {
   "cell_type": "markdown",
   "metadata": {},
   "source": [
    "*Exercise 8:* Write a function is called with a board and player number, takes input from the player using python's `input`, and modifies the board using your function from exercise 7. Note that you should keep asking for input until you have gotten a valid input that results in a valid move."
   ]
  },
  {
   "cell_type": "code",
   "execution_count": 23,
   "metadata": {},
   "outputs": [],
   "source": [
    "def get_valid_input(board, player):\n",
    "    while True:\n",
    "        try:\n",
    "            label = input(f\"Player {player}, enter your move (e.g., A1): \").strip().upper()\n",
    "            if len(label) != 2 or not label[0].isalpha() or not label[1].isdigit():\n",
    "                raise ValueError(\"Invalid input. Please enter a letter followed by a number (e.g., A1).\")\n",
    "            col = ord(label[0]) - ord('A')\n",
    "            row = int(label[1]) - 1\n",
    "            if not (0 <= row < 3 and 0 <= col < 3):\n",
    "                raise ValueError(\"Invalid input. Row and column indices must be between 1 and 3.\")\n",
    "            if not modify_board(board, player, label):\n",
    "                raise ValueError(\"Invalid move. The selected cell is already occupied.\")\n",
    "            return\n",
    "        except ValueError as ve:\n",
    "            print(ve)\n",
    "\n",
    "def game_over(board):\n",
    "    return all(cell != 0 for row in board for cell in row)"
   ]
  },
  {
   "cell_type": "code",
   "execution_count": 24,
   "metadata": {},
   "outputs": [
    {
     "name": "stdout",
     "output_type": "stream",
     "text": [
      "Updated Game Board:\n",
      "[0, 0, 0]\n",
      "[0, 0, 0]\n",
      "[0, 0, 0]\n"
     ]
    },
    {
     "name": "stdin",
     "output_type": "stream",
     "text": [
      "Player 1, enter your move (e.g., A1):  end\n"
     ]
    },
    {
     "name": "stdout",
     "output_type": "stream",
     "text": [
      "Invalid input. Please enter a letter followed by a number (e.g., A1).\n"
     ]
    },
    {
     "name": "stdin",
     "output_type": "stream",
     "text": [
      "Player 1, enter your move (e.g., A1):  a1\n"
     ]
    },
    {
     "name": "stdout",
     "output_type": "stream",
     "text": [
      "Updated Game Board:\n",
      "[1, 0, 0]\n",
      "[0, 0, 0]\n",
      "[0, 0, 0]\n"
     ]
    },
    {
     "name": "stdin",
     "output_type": "stream",
     "text": [
      "Player 2, enter your move (e.g., A1):  a2\n"
     ]
    },
    {
     "name": "stdout",
     "output_type": "stream",
     "text": [
      "Updated Game Board:\n",
      "[1, 0, 0]\n",
      "[2, 0, 0]\n",
      "[0, 0, 0]\n"
     ]
    },
    {
     "name": "stdin",
     "output_type": "stream",
     "text": [
      "Player 1, enter your move (e.g., A1):  a\n"
     ]
    },
    {
     "name": "stdout",
     "output_type": "stream",
     "text": [
      "Invalid input. Please enter a letter followed by a number (e.g., A1).\n"
     ]
    },
    {
     "name": "stdin",
     "output_type": "stream",
     "text": [
      "Player 1, enter your move (e.g., A1):  a3\n"
     ]
    },
    {
     "name": "stdout",
     "output_type": "stream",
     "text": [
      "Updated Game Board:\n",
      "[1, 0, 0]\n",
      "[2, 0, 0]\n",
      "[1, 0, 0]\n"
     ]
    },
    {
     "name": "stdin",
     "output_type": "stream",
     "text": [
      "Player 2, enter your move (e.g., A1):  c2\n"
     ]
    },
    {
     "name": "stdout",
     "output_type": "stream",
     "text": [
      "Updated Game Board:\n",
      "[1, 0, 0]\n",
      "[2, 0, 2]\n",
      "[1, 0, 0]\n"
     ]
    },
    {
     "name": "stdin",
     "output_type": "stream",
     "text": [
      "Player 1, enter your move (e.g., A1):  b2\n"
     ]
    },
    {
     "name": "stdout",
     "output_type": "stream",
     "text": [
      "Updated Game Board:\n",
      "[1, 0, 0]\n",
      "[2, 1, 2]\n",
      "[1, 0, 0]\n"
     ]
    },
    {
     "name": "stdin",
     "output_type": "stream",
     "text": [
      "Player 2, enter your move (e.g., A1):  b3\n"
     ]
    },
    {
     "name": "stdout",
     "output_type": "stream",
     "text": [
      "Updated Game Board:\n",
      "[1, 0, 0]\n",
      "[2, 1, 2]\n",
      "[1, 2, 0]\n"
     ]
    },
    {
     "name": "stdin",
     "output_type": "stream",
     "text": [
      "Player 1, enter your move (e.g., A1):  end\n"
     ]
    },
    {
     "name": "stdout",
     "output_type": "stream",
     "text": [
      "Invalid input. Please enter a letter followed by a number (e.g., A1).\n"
     ]
    },
    {
     "name": "stdin",
     "output_type": "stream",
     "text": [
      "Player 1, enter your move (e.g., A1):  END\n"
     ]
    },
    {
     "name": "stdout",
     "output_type": "stream",
     "text": [
      "Invalid input. Please enter a letter followed by a number (e.g., A1).\n"
     ]
    },
    {
     "name": "stdin",
     "output_type": "stream",
     "text": [
      "Player 1, enter your move (e.g., A1):  c1\n"
     ]
    },
    {
     "name": "stdout",
     "output_type": "stream",
     "text": [
      "Updated Game Board:\n",
      "[1, 0, 1]\n",
      "[2, 1, 2]\n",
      "[1, 2, 0]\n"
     ]
    },
    {
     "name": "stdin",
     "output_type": "stream",
     "text": [
      "Player 2, enter your move (e.g., A1):  c3\n"
     ]
    },
    {
     "name": "stdout",
     "output_type": "stream",
     "text": [
      "Updated Game Board:\n",
      "[1, 0, 1]\n",
      "[2, 1, 2]\n",
      "[1, 2, 2]\n"
     ]
    },
    {
     "name": "stdin",
     "output_type": "stream",
     "text": [
      "Player 1, enter your move (e.g., A1):  b2\n"
     ]
    },
    {
     "name": "stdout",
     "output_type": "stream",
     "text": [
      "Invalid move. The selected cell is already occupied.\n"
     ]
    },
    {
     "name": "stdin",
     "output_type": "stream",
     "text": [
      "Player 1, enter your move (e.g., A1):  b1\n"
     ]
    },
    {
     "name": "stdout",
     "output_type": "stream",
     "text": [
      "Game Over. No empty spaces left.\n"
     ]
    }
   ],
   "source": [
    "game_board = [[0, 0, 0],\n",
    "              [0, 0, 0],\n",
    "              [0, 0, 0]]\n",
    "\n",
    "player_number = 1\n",
    "\n",
    "while not game_over(game_board):\n",
    "    print(\"Updated Game Board:\")\n",
    "    for row in game_board:\n",
    "        print(row)\n",
    "    get_valid_input(game_board, player_number)\n",
    "    player_number = 2 if player_number == 1 else 1\n",
    "    if result == \"END\":\n",
    "        print(\"Game ended by player.\")\n",
    "        break\n",
    "\n",
    "print(\"Game Over. No empty spaces left.\")"
   ]
  },
  {
   "cell_type": "markdown",
   "metadata": {},
   "source": [
    "*Exercise 9:* Use all of the previous exercises to implement a full tic-tac-toe game, where an appropriate board is drawn, 2 players are repeatedly asked for a location coordinates of where they wish to place a mark, and the game status is checked until a player wins or a draw occurs."
   ]
  },
  {
   "cell_type": "code",
   "execution_count": 25,
   "metadata": {},
   "outputs": [
    {
     "name": "stdout",
     "output_type": "stream",
     "text": [
      "Welcome to Tic-Tac-Toe!\n",
      "\n",
      "Current Game Board:\n",
      "    1   2   3\n",
      "A |    A B C\n",
      "  -----------\n",
      "B | 1      \n",
      "  -----------\n",
      "C | 2      \n",
      "  -----------\n",
      "D | 3      \n"
     ]
    },
    {
     "name": "stdin",
     "output_type": "stream",
     "text": [
      "Player X, enter your move (e.g., A1), or type 'end' to quit:  end\n"
     ]
    },
    {
     "name": "stdout",
     "output_type": "stream",
     "text": [
      "Game ended by player.\n"
     ]
    }
   ],
   "source": [
    "def check_winner(board):\n",
    "    for i in range(3):\n",
    "        if board[i][0] == board[i][1] == board[i][2] != ' ' or \\\n",
    "           board[0][i] == board[1][i] == board[2][i] != ' ':\n",
    "            return True\n",
    "    if board[0][0] == board[1][1] == board[2][2] != ' ' or \\\n",
    "       board[0][2] == board[1][1] == board[2][0] != ' ':\n",
    "        return True\n",
    "    return False\n",
    "\n",
    "def is_draw(board):\n",
    "    return all(' ' not in row for row in board)\n",
    "\n",
    "def place_marker(board, player, x, y):\n",
    "    if board[x][y] == ' ':\n",
    "        board[x][y] = player\n",
    "        return True\n",
    "    return False\n",
    "\n",
    "def modify_board(board, player, label):\n",
    "    col, row = ord(label[0].upper()) - 65, int(label[1]) - 1\n",
    "    return place_marker(board, player, row, col)\n",
    "\n",
    "def label_board(board):\n",
    "    return [['   A B C']] + [[f\"{i + 1} {' '.join(row)}\"] for i, row in enumerate(board)]\n",
    "\n",
    "def get_valid_input(board, player):\n",
    "    while True:\n",
    "        try:\n",
    "            label = input(f\"Player {player}, enter your move (e.g., A1), or type 'end' to quit: \").strip().upper()\n",
    "            if label == \"END\":\n",
    "                return \"END\"\n",
    "            if len(label) != 2 or label[0] not in 'ABC' or label[1] not in '123':\n",
    "                raise ValueError(\"Invalid input. Please enter a valid location like 'A1', 'B2', or 'C3'.\")\n",
    "            col, row = ord(label[0]) - ord('A'), int(label[1]) - 1\n",
    "            if not (0 <= row < 3 and 0 <= col < 3):\n",
    "                raise ValueError(\"Invalid input. Row and column indices must be between 1 and 3.\")\n",
    "            if not modify_board(board, player, label):\n",
    "                raise ValueError(\"Invalid move. The selected cell is already occupied.\")\n",
    "            return\n",
    "        except ValueError as ve:\n",
    "            print(ve)\n",
    "\n",
    "def draw_tic_tac_toe(matrix):\n",
    "    print(\"    1   2   3\")\n",
    "    for i, row in enumerate(matrix):\n",
    "        print(chr(ord('A') + i) + \" | \" + \" | \".join(row))\n",
    "        if i < len(matrix) - 1:\n",
    "            print(\"  \" + \"-\" * 11)\n",
    "\n",
    "def play_tic_tac_toe():\n",
    "    board = [[' ']*3 for _ in range(3)]\n",
    "    print(\"Welcome to Tic-Tac-Toe!\")\n",
    "\n",
    "    for turn in range(9):\n",
    "        player_marker = 'X' if turn % 2 == 0 else 'O'\n",
    "        print(\"\\nCurrent Game Board:\")\n",
    "        draw_tic_tac_toe(label_board(board))\n",
    "        result = get_valid_input(board, player_marker)\n",
    "        if result == \"END\":\n",
    "            print(\"Game ended by player.\")\n",
    "            break\n",
    "        if check_winner(board):\n",
    "            print(\"\\nFinal Game Board:\")\n",
    "            draw_tic_tac_toe(label_board(board))\n",
    "            print(f\"Player '{player_marker}' wins! Congratulations!\")\n",
    "            break\n",
    "        elif is_draw(board):\n",
    "            print(\"\\nFinal Game Board:\")\n",
    "            draw_tic_tac_toe(label_board(board))\n",
    "            print(\"It's a draw!\")\n",
    "            break\n",
    "\n",
    "if __name__ == \"__main__\":\n",
    "    play_tic_tac_toe()\n"
   ]
  },
  {
   "cell_type": "markdown",
   "metadata": {},
   "source": [
    "*Exercise 10:* Test that your game works for 5x5 Tic Tac Toe.  "
   ]
  },
  {
   "cell_type": "code",
   "execution_count": 26,
   "metadata": {},
   "outputs": [
    {
     "name": "stdout",
     "output_type": "stream",
     "text": [
      "Welcome to 5x5 Tic-Tac-Toe!\n",
      "\n",
      "Current Game Board:\n",
      "   A |  B |  C |  D |  E \n",
      " 1    |   |   |   |  \n",
      " 2    |   |   |   |  \n",
      " 3    |   |   |   |  \n",
      " 4    |   |   |   |  \n",
      " 5    |   |   |   |  \n"
     ]
    },
    {
     "name": "stdin",
     "output_type": "stream",
     "text": [
      "Player X, enter your move (e.g., A1), or type 'end' to quit:  end\n"
     ]
    },
    {
     "name": "stdout",
     "output_type": "stream",
     "text": [
      "Game ended by player.\n"
     ]
    }
   ],
   "source": [
    "def check_winner(board):\n",
    "    for i in range(5):\n",
    "        if board[i][0] == board[i][1] == board[i][2] == board[i][3] == board[i][4] != ' ' or \\\n",
    "           board[0][i] == board[1][i] == board[2][i] == board[3][i] == board[4][i] != ' ':\n",
    "            return True\n",
    "    if board[0][0] == board[1][1] == board[2][2] == board[3][3] == board[4][4] != ' ' or \\\n",
    "       board[0][4] == board[1][3] == board[2][2] == board[3][1] == board[4][0] != ' ':\n",
    "        return True\n",
    "    return False\n",
    "\n",
    "def is_draw(board):\n",
    "    return all(' ' not in row for row in board)\n",
    "\n",
    "def place_marker(board, player, x, y):\n",
    "    if board[x][y] == ' ':\n",
    "        board[x][y] = player\n",
    "        return True\n",
    "    return False\n",
    "\n",
    "def modify_board(board, player, label):\n",
    "    col, row = ord(label[0].upper()) - 65, int(label[1]) - 1\n",
    "    return place_marker(board, player, row, col)\n",
    "\n",
    "def label_board(board):\n",
    "    return [[f\"  {chr(ord('A') + i)} \" for i in range(5)]] + [[f\"{j + 1}  \" + \" | \".join(row)] for j, row in enumerate(board)]\n",
    "\n",
    "def get_valid_input(board, player):\n",
    "    while True:\n",
    "        try:\n",
    "            label = input(f\"Player {player}, enter your move (e.g., A1), or type 'end' to quit: \").strip().upper()\n",
    "            if label == \"END\":\n",
    "                return \"END\"\n",
    "            if len(label) != 2 or label[0] not in 'ABCDE' or label[1] not in '12345':\n",
    "                raise ValueError(\"Invalid input. Please enter a valid location like 'A1', 'B2', or 'C3'.\")\n",
    "            col, row = ord(label[0]) - ord('A'), int(label[1]) - 1\n",
    "            if not (0 <= row < 5 and 0 <= col < 5):\n",
    "                raise ValueError(\"Invalid input. Row and column indices must be between 1 and 5.\")\n",
    "            if not modify_board(board, player, label):\n",
    "                raise ValueError(\"Invalid move. The selected cell is already occupied.\")\n",
    "            return\n",
    "        except ValueError as ve:\n",
    "            print(ve)\n",
    "\n",
    "def draw_tic_tac_toe(matrix):\n",
    "    for row in matrix:\n",
    "        print(\" \" + \"|\".join(row))\n",
    "\n",
    "def play_tic_tac_toe():\n",
    "    board = [[' ']*5 for _ in range(5)]\n",
    "    print(\"Welcome to 5x5 Tic-Tac-Toe!\")\n",
    "\n",
    "    for turn in range(25):\n",
    "        player_marker = 'X' if turn % 2 == 0 else 'O'\n",
    "        print(\"\\nCurrent Game Board:\")\n",
    "        draw_tic_tac_toe(label_board(board))\n",
    "        result = get_valid_input(board, player_marker)\n",
    "        if result == \"END\":\n",
    "            print(\"Game ended by player.\")\n",
    "            break\n",
    "        if check_winner(board):\n",
    "            print(\"\\nFinal Game Board:\")\n",
    "            draw_tic_tac_toe(label_board(board))\n",
    "            print(f\"Player '{player_marker}' wins! Congratulations!\")\n",
    "            break\n",
    "        elif is_draw(board):\n",
    "            print(\"\\nFinal Game Board:\")\n",
    "            draw_tic_tac_toe(label_board(board))\n",
    "            print(\"It's a draw!\")\n",
    "            break\n",
    "\n",
    "if __name__ == \"__main__\":\n",
    "    play_tic_tac_toe()\n"
   ]
  },
  {
   "cell_type": "markdown",
   "metadata": {},
   "source": [
    "*Exercise 11:* (Advanced / Challenge) Develop a version of the game where one player is the computer. Note that you don't need to do an extensive seach for the best move. You can have the computer simply protect against loosing and otherwise try to win with straight or diagonal patterns."
   ]
  },
  {
   "cell_type": "code",
   "execution_count": 27,
   "metadata": {},
   "outputs": [
    {
     "name": "stdout",
     "output_type": "stream",
     "text": [
      "Welcome to 5x5 Tic-Tac-Toe with a computer player!\n",
      "   A   B   C   D   E\n",
      "1    |   |   |   |  \n",
      "2    |   |   |   |  \n",
      "3    |   |   |   |  \n",
      "4    |   |   |   |  \n",
      "5    |   |   |   |  \n",
      "Player 1, it's your turn.\n"
     ]
    },
    {
     "name": "stdin",
     "output_type": "stream",
     "text": [
      "Enter your move (e.g., 'A1', 'B2', 'C3'):  a1\n"
     ]
    },
    {
     "name": "stdout",
     "output_type": "stream",
     "text": [
      "Computer is making a move...\n",
      "   A   B   C   D   E\n",
      "1  X |   |   | O |  \n",
      "2    |   |   |   |  \n",
      "3    |   |   |   |  \n",
      "4    |   |   |   |  \n",
      "5    |   |   |   |  \n",
      "Player 1, it's your turn.\n"
     ]
    },
    {
     "name": "stdin",
     "output_type": "stream",
     "text": [
      "Enter your move (e.g., 'A1', 'B2', 'C3'):  b2\n"
     ]
    },
    {
     "name": "stdout",
     "output_type": "stream",
     "text": [
      "Computer is making a move...\n",
      "   A   B   C   D   E\n",
      "1  X |   |   | O |  \n",
      "2    | X |   |   |  \n",
      "3    |   |   | O |  \n",
      "4    |   |   |   |  \n",
      "5    |   |   |   |  \n",
      "Player 1, it's your turn.\n"
     ]
    },
    {
     "name": "stdin",
     "output_type": "stream",
     "text": [
      "Enter your move (e.g., 'A1', 'B2', 'C3'):  c3\n"
     ]
    },
    {
     "name": "stdout",
     "output_type": "stream",
     "text": [
      "Computer is making a move...\n",
      "   A   B   C   D   E\n",
      "1  X |   |   | O |  \n",
      "2    | X |   |   |  \n",
      "3    |   | X | O |  \n",
      "4  O |   |   |   |  \n",
      "5    |   |   |   |  \n",
      "Player 1, it's your turn.\n"
     ]
    },
    {
     "name": "stdin",
     "output_type": "stream",
     "text": [
      "Enter your move (e.g., 'A1', 'B2', 'C3'):  e4\n"
     ]
    },
    {
     "name": "stdout",
     "output_type": "stream",
     "text": [
      "Computer is making a move...\n",
      "   A   B   C   D   E\n",
      "1  X |   |   | O |  \n",
      "2    | X | O |   |  \n",
      "3    |   | X | O |  \n",
      "4  O |   |   |   | X\n",
      "5    |   |   |   |  \n",
      "Player 1, it's your turn.\n"
     ]
    },
    {
     "name": "stdin",
     "output_type": "stream",
     "text": [
      "Enter your move (e.g., 'A1', 'B2', 'C3'):  c2\n"
     ]
    },
    {
     "name": "stdout",
     "output_type": "stream",
     "text": [
      "Invalid move. Please try again.\n"
     ]
    },
    {
     "name": "stdin",
     "output_type": "stream",
     "text": [
      "Enter your move (e.g., 'A1', 'B2', 'C3'):  c1\n"
     ]
    },
    {
     "name": "stdout",
     "output_type": "stream",
     "text": [
      "Computer is making a move...\n",
      "   A   B   C   D   E\n",
      "1  X |   | X | O |  \n",
      "2    | X | O |   |  \n",
      "3    |   | X | O |  \n",
      "4  O |   | O |   | X\n",
      "5    |   |   |   |  \n",
      "Player 1, it's your turn.\n"
     ]
    },
    {
     "name": "stdin",
     "output_type": "stream",
     "text": [
      "Enter your move (e.g., 'A1', 'B2', 'C3'):  b1\n"
     ]
    },
    {
     "name": "stdout",
     "output_type": "stream",
     "text": [
      "Computer is making a move...\n",
      "   A   B   C   D   E\n",
      "1  X | X | X | O |  \n",
      "2    | X | O |   |  \n",
      "3    |   | X | O |  \n",
      "4  O |   | O |   | X\n",
      "5  O |   |   |   |  \n",
      "Player 1, it's your turn.\n"
     ]
    },
    {
     "name": "stdin",
     "output_type": "stream",
     "text": [
      "Enter your move (e.g., 'A1', 'B2', 'C3'):  a4\n"
     ]
    },
    {
     "name": "stdout",
     "output_type": "stream",
     "text": [
      "Invalid move. Please try again.\n"
     ]
    },
    {
     "name": "stdin",
     "output_type": "stream",
     "text": [
      "Enter your move (e.g., 'A1', 'B2', 'C3'):  a3\n"
     ]
    },
    {
     "name": "stdout",
     "output_type": "stream",
     "text": [
      "Computer is making a move...\n",
      "   A   B   C   D   E\n",
      "1  X | X | X | O |  \n",
      "2  O | X | O |   |  \n",
      "3  X |   | X | O |  \n",
      "4  O |   | O |   | X\n",
      "5  O |   |   |   |  \n",
      "Player 1, it's your turn.\n"
     ]
    },
    {
     "name": "stdin",
     "output_type": "stream",
     "text": [
      "Enter your move (e.g., 'A1', 'B2', 'C3'):  e2\n"
     ]
    },
    {
     "name": "stdout",
     "output_type": "stream",
     "text": [
      "Computer is making a move...\n",
      "   A   B   C   D   E\n",
      "1  X | X | X | O |  \n",
      "2  O | X | O |   | X\n",
      "3  X |   | X | O |  \n",
      "4  O |   | O | O | X\n",
      "5  O |   |   |   |  \n",
      "Player 1, it's your turn.\n"
     ]
    },
    {
     "name": "stdin",
     "output_type": "stream",
     "text": [
      "Enter your move (e.g., 'A1', 'B2', 'C3'):  b5\n"
     ]
    },
    {
     "name": "stdout",
     "output_type": "stream",
     "text": [
      "Computer is making a move...\n",
      "   A   B   C   D   E\n",
      "1  X | X | X | O |  \n",
      "2  O | X | O |   | X\n",
      "3  X |   | X | O |  \n",
      "4  O |   | O | O | X\n",
      "5  O | X | O |   |  \n",
      "Player 1, it's your turn.\n"
     ]
    },
    {
     "name": "stdin",
     "output_type": "stream",
     "text": [
      "Enter your move (e.g., 'A1', 'B2', 'C3'):  d5\n"
     ]
    },
    {
     "name": "stdout",
     "output_type": "stream",
     "text": [
      "Computer is making a move...\n",
      "   A   B   C   D   E\n",
      "1  X | X | X | O |  \n",
      "2  O | X | O |   | X\n",
      "3  X |   | X | O |  \n",
      "4  O | O | O | O | X\n",
      "5  O | X | O | X |  \n",
      "Player 1, it's your turn.\n"
     ]
    },
    {
     "name": "stdin",
     "output_type": "stream",
     "text": [
      "Enter your move (e.g., 'A1', 'B2', 'C3'):  e5\n"
     ]
    },
    {
     "name": "stdout",
     "output_type": "stream",
     "text": [
      "Computer is making a move...\n",
      "   A   B   C   D   E\n",
      "1  X | X | X | O |  \n",
      "2  O | X | O |   | X\n",
      "3  X |   | X | O | O\n",
      "4  O | O | O | O | X\n",
      "5  O | X | O | X | X\n",
      "Player 1, it's your turn.\n"
     ]
    },
    {
     "name": "stdin",
     "output_type": "stream",
     "text": [
      "Enter your move (e.g., 'A1', 'B2', 'C3'):  d2\n"
     ]
    },
    {
     "name": "stdout",
     "output_type": "stream",
     "text": [
      "Computer is making a move...\n",
      "   A   B   C   D   E\n",
      "1  X | X | X | O | O\n",
      "2  O | X | O | X | X\n",
      "3  X |   | X | O | O\n",
      "4  O | O | O | O | X\n",
      "5  O | X | O | X | X\n",
      "Player 1, it's your turn.\n"
     ]
    },
    {
     "name": "stdin",
     "output_type": "stream",
     "text": [
      "Enter your move (e.g., 'A1', 'B2', 'C3'):  b3\n"
     ]
    },
    {
     "name": "stdout",
     "output_type": "stream",
     "text": [
      "   A   B   C   D   E\n",
      "1  X | X | X | O | O\n",
      "2  O | X | O | X | X\n",
      "3  X | X | X | O | O\n",
      "4  O | O | O | O | X\n",
      "5  O | X | O | X | X\n",
      "It's a draw!\n"
     ]
    }
   ],
   "source": [
    "import random\n",
    "\n",
    "def print_board(board):\n",
    "    print(\"   A   B   C   D   E\")\n",
    "    for i, row in enumerate(board):\n",
    "        print(f\"{i+1}  {' | '.join(row)}\")\n",
    "\n",
    "def check_winner(board):\n",
    "    for i in range(5):\n",
    "        if all(board[i][j] == board[i][0] != ' ' for j in range(5)) or \\\n",
    "           all(board[j][i] == board[0][i] != ' ' for j in range(5)):\n",
    "            return True\n",
    "    if all(board[i][i] == board[0][0] != ' ' for i in range(5)) or \\\n",
    "       all(board[i][4-i] == board[0][4] != ' ' for i in range(5)):\n",
    "        return True\n",
    "    return False\n",
    "\n",
    "def make_move(board, player, location):\n",
    "    col, row = ord(location[0].upper()) - 65, int(location[1]) - 1\n",
    "    if 0 <= row < 5 and 0 <= col < 5 and board[row][col] == ' ':\n",
    "        board[row][col] = 'X' if player == 1 else 'O'\n",
    "        return True\n",
    "    return False\n",
    "\n",
    "def computer_move(board, player):\n",
    "    for i in range(5):\n",
    "        for j in range(5):\n",
    "            if board[i][j] == ' ':\n",
    "                board[i][j] = 'X' if player == 1 else 'O'\n",
    "                if check_winner(board):\n",
    "                    return\n",
    "                board[i][j] = ' '\n",
    "    while True:\n",
    "        row, col = random.randint(0, 4), random.randint(0, 4)\n",
    "        if board[row][col] == ' ':\n",
    "            board[row][col] = 'X' if player == 1 else 'O'\n",
    "            return\n",
    "\n",
    "def play_tic_tac_toe_with_computer():\n",
    "    board = [[' ']*5 for _ in range(5)]\n",
    "    print(\"Welcome to 5x5 Tic-Tac-Toe with a computer player!\")\n",
    "\n",
    "    for turn in range(25):\n",
    "        player = 1 if turn % 2 == 0 else 2\n",
    "\n",
    "        if player == 1:\n",
    "            print_board(board)\n",
    "            print(f\"Player {player}, it's your turn.\")\n",
    "\n",
    "            while True:\n",
    "                location = input(f\"Enter your move (e.g., 'A1', 'B2', 'C3'): \").strip().upper()\n",
    "                if len(location) != 2 or location[0] not in 'ABCDE' or location[1] not in '12345':\n",
    "                    print(\"Invalid input. Please enter a valid location like 'A1', 'B2', or 'C3'.\")\n",
    "                    continue\n",
    "                if make_move(board, player, location):\n",
    "                    break\n",
    "                else:\n",
    "                    print(\"Invalid move. Please try again.\")\n",
    "\n",
    "        else:\n",
    "            print(\"Computer is making a move...\")\n",
    "            computer_move(board, player)\n",
    "\n",
    "        if check_winner(board):\n",
    "            print_board(board)\n",
    "            print(\"Player 1 wins! Congratulations!\" if player == 1 else \"Computer wins!\")\n",
    "            break\n",
    "        elif all(' ' not in row for row in board):\n",
    "            print_board(board)\n",
    "            print(\"It's a draw!\")\n",
    "            break\n",
    "\n",
    "if __name__ == \"__main__\":\n",
    "    play_tic_tac_toe_with_computer()\n"
   ]
  },
  {
   "cell_type": "code",
   "execution_count": null,
   "metadata": {},
   "outputs": [],
   "source": []
  }
 ],
 "metadata": {
  "kernelspec": {
   "display_name": "Python 3 (ipykernel)",
   "language": "python",
   "name": "python3"
  },
  "language_info": {
   "codemirror_mode": {
    "name": "ipython",
    "version": 3
   },
   "file_extension": ".py",
   "mimetype": "text/x-python",
   "name": "python",
   "nbconvert_exporter": "python",
   "pygments_lexer": "ipython3",
   "version": "3.10.12"
  }
 },
 "nbformat": 4,
 "nbformat_minor": 4
}
