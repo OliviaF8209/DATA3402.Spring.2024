{
  "cells": [
    {
      "cell_type": "markdown",
      "metadata": {
        "id": "MljTMhMoaRxi"
      },
      "source": [
        "# Lab 6"
      ]
    },
    {
      "cell_type": "markdown",
      "metadata": {
        "id": "AZyvcx25aRxm"
      },
      "source": [
        "You are tasked with evaluating card counting strategies for black jack. In order to do so, you will use object oriented programming to create a playable casino style black jack game where a computer dealer plays against $n$ computer players and possibily one human player. If you don't know the rules of blackjack or card counting, please google it.\n",
        "\n",
        "A few requirements:\n",
        "* The game should utilize multiple 52-card decks. Typically the game is played with 6 decks.\n",
        "* Players should have chips.\n",
        "* Dealer's actions are predefined by rules of the game (typically hit on 16).\n",
        "* The players should be aware of all shown cards so that they can count cards.\n",
        "* Each player could have a different strategy.\n",
        "* The system should allow you to play large numbers of games, study the outcomes, and compare average winnings per hand rate for different strategies."
      ]
    },
    {
      "cell_type": "markdown",
      "metadata": {
        "id": "Qukjc9MkaRxo"
      },
      "source": [
        "1. Begin by creating a classes to represent cards and decks. The deck should support more than one 52-card set. The deck should allow you to shuffle and draw cards. Include a \"plastic\" card, placed randomly in the deck. Later, when the plastic card is dealt, shuffle the cards before the next deal."
      ]
    },
    {
      "cell_type": "code",
      "execution_count": 53,
      "metadata": {
        "id": "jimywNueaRxp"
      },
      "outputs": [],
      "source": [
        "import random\n",
        "\n",
        "class Card:\n",
        "    def __init__(self, suit, rank):\n",
        "        self.suit, self.rank = suit, rank\n",
        "\n",
        "    def __repr__(self):\n",
        "        return f\"{self.rank} of {self.suit}\"\n",
        "\n",
        "class Deck:\n",
        "    def __init__(self, num_sets=6):\n",
        "        self.cards = [Card(s, r) for s in ['Hearts', 'Diamonds', 'Clubs', 'Spades'] for r in ['2', '3', '4', '5', '6', '7', '8', '9', '10', 'J', 'Q', 'K', 'A'] for _ in range(num_sets)]\n",
        "        self.shuffle()\n",
        "        self.plastic_index = random.randint(20, 30)\n",
        "\n",
        "    def shuffle(self):\n",
        "        random.shuffle(self.cards)\n",
        "\n",
        "    def draw(self):\n",
        "        return self.cards.pop(0)\n",
        "\n",
        "    def replace_plastic_card(self):\n",
        "        self.cards.insert(self.plastic_index, self.draw())\n",
        "\n",
        "    def __repr__(self):\n",
        "        return f\"Deck with {len(self.cards)} cards\""
      ]
    },
    {
      "cell_type": "code",
      "execution_count": 54,
      "metadata": {
        "colab": {
          "base_uri": "https://localhost:8080/"
        },
        "id": "nbjnCvWEaRxq",
        "outputId": "dc8f75ce-083d-477b-86f0-17a61b92bfda"
      },
      "outputs": [
        {
          "output_type": "stream",
          "name": "stdout",
          "text": [
            "Deck with 104 cards\n",
            "Hand: [A of Spades, 2 of Clubs, Q of Spades]\n",
            "Deck with 101 cards\n"
          ]
        }
      ],
      "source": [
        "deck = Deck(num_sets=2)\n",
        "print(deck)\n",
        "\n",
        "hand_size = 3\n",
        "hand = [deck.draw() for _ in range(hand_size)]\n",
        "print(\"Hand:\", hand)\n",
        "\n",
        "print(deck)"
      ]
    },
    {
      "cell_type": "markdown",
      "metadata": {
        "id": "GK28kbx1aRxs"
      },
      "source": [
        "2. Now design your game on a UML diagram. You may want to create classes to represent, players, a hand, and/or the game. As you work through the lab, update your UML diagram. At the end of the lab, submit your diagram (as pdf file) along with your notebook."
      ]
    },
    {
      "cell_type": "code",
      "source": [
        "### named UML diagram for Lab #6"
      ],
      "metadata": {
        "id": "K-dB9EvL1dsG"
      },
      "execution_count": null,
      "outputs": []
    },
    {
      "cell_type": "markdown",
      "metadata": {
        "id": "HciLHAHBaRxu"
      },
      "source": [
        "3. Begin with implementing the skeleton (ie define data members and methods/functions, but do not code the logic) of the classes in your UML diagram."
      ]
    },
    {
      "cell_type": "code",
      "execution_count": 55,
      "metadata": {
        "id": "TTMmYz7_aRxv"
      },
      "outputs": [],
      "source": [
        "\n",
        "class Card:\n",
        "    def __init__(self, suit, rank):\n",
        "        self.suit, self.rank = suit, rank\n",
        "\n",
        "    def __repr__(self):\n",
        "        return f\"{self.rank} of {self.suit}\"  # String of card\n",
        "\n",
        "class Deck:\n",
        "    def __init__(self, num_sets=6):\n",
        "        self.num_sets = num_sets  # Number of card sets in the deck\n",
        "        self.cards = []  # List\n",
        "        self.plastic_index = None\n",
        "\n",
        "    def shuffle(self):\n",
        "        pass\n",
        "\n",
        "    def draw(self):\n",
        "        pass\n",
        "\n",
        "    def replace_plastic_card(self):\n",
        "        pass\n",
        "\n",
        "    def __repr__(self):\n",
        "        pass\n",
        "\n",
        "class Player:\n",
        "    def __init__(self, name, chips=100):\n",
        "        self.name, self.chips, self.hand = name, chips, []  # Initialize the player with name, chips, and hand\n",
        "\n",
        "    def bet(self):\n",
        "        pass\n",
        "\n",
        "    def win(self, amount):\n",
        "        pass\n",
        "\n",
        "    def lose(self, amount):\n",
        "        pass\n",
        "\n",
        "class CountingPlayer(Player):\n",
        "    def __init__(self, name, threshold):\n",
        "        super().__init__(name)\n",
        "        self.threshold, self.count = threshold, 0  # Setting the threshold and counting\n",
        "\n",
        "    def update_count(self, card):\n",
        "        pass\n",
        "\n",
        "    def decide(self):\n",
        "        pass\n",
        "\n",
        "class Dealer(Player):\n",
        "    def decide(self):\n",
        "        pass  # decide whether to hit or stay\n",
        "\n",
        "def simulate_round(players, deck):\n",
        "    pass\n",
        "\n",
        "def simulate_game():\n",
        "    pass\n"
      ]
    },
    {
      "cell_type": "markdown",
      "metadata": {
        "id": "9CQXWYlvaRxv"
      },
      "source": [
        "4. Complete the implementation by coding the logic of all functions. For now, just implement the dealer player and human player."
      ]
    },
    {
      "cell_type": "code",
      "execution_count": 56,
      "metadata": {
        "id": "AxYeszEqaRxv"
      },
      "outputs": [],
      "source": [
        "class Player:\n",
        "    def __init__(self, name):\n",
        "        self.name = name\n",
        "        self.hand = []\n",
        "\n",
        "class Dealer(Player):\n",
        "    def __init__(self):\n",
        "        super().__init__(\"Dealer\")\n",
        "\n",
        "class HumanPlayer(Player): pass"
      ]
    },
    {
      "cell_type": "code",
      "execution_count": 57,
      "metadata": {
        "colab": {
          "base_uri": "https://localhost:8080/"
        },
        "id": "FGsBlLAKaRxw",
        "outputId": "e4e5df12-ddfb-4243-ede6-7d7312a1aaf7"
      },
      "outputs": [
        {
          "output_type": "stream",
          "name": "stdout",
          "text": [
            "Dealer\n",
            "Player 1: Olivia\n",
            "Player 2: Joshua\n"
          ]
        }
      ],
      "source": [
        "dealer= Dealer()\n",
        "print(dealer.name)\n",
        "\n",
        "player1= HumanPlayer(\"Olivia\")\n",
        "player2= HumanPlayer(\"Joshua\")\n",
        "\n",
        "print(\"Player 1:\", player1.name)\n",
        "print(\"Player 2:\", player2.name)"
      ]
    },
    {
      "cell_type": "markdown",
      "metadata": {
        "id": "WqqPqBTMaRxx"
      },
      "source": [
        "5.  Test. Demonstrate game play. For example, create a game of several dealer players and show that the game is functional through several rounds."
      ]
    },
    {
      "cell_type": "code",
      "execution_count": 58,
      "metadata": {
        "id": "H5rdRyLSaRxx"
      },
      "outputs": [],
      "source": [
        "class Card:\n",
        "    def __init__(self, suit, rank):\n",
        "        self.s, self.r = suit, rank\n",
        "\n",
        "    def __repr__(self):\n",
        "        return f\"{self.r} of {self.s}\"\n",
        "\n",
        "class Deck:\n",
        "    def __init__(self, n=1):\n",
        "        self.cards = [Card(s, r) for s in 'Hearts Diamonds Clubs Spades'.split() for r in '2 3 4 5 6 7 8 9 10 Jack Queen King Ace'.split() for _ in range(n)]\n",
        "        self.shuffle()\n",
        "\n",
        "    def shuffle(self):\n",
        "        random.shuffle(self.cards)\n",
        "\n",
        "    def draw(self):\n",
        "        return self.cards.pop(0)\n",
        "\n",
        "class Player:\n",
        "    def __init__(self, name):\n",
        "        self.name, self.hand = name, []\n",
        "\n",
        "class Dealer(Player):\n",
        "    def __init__(self):\n",
        "        super().__init__(\"Dealer\")\n",
        "\n",
        "class Game:\n",
        "    def __init__(self, n):\n",
        "        self.deck = Deck()\n",
        "        self.players = [Dealer() for _ in range(n)] + [Player(\"Human\")]\n",
        "\n",
        "    def deal(self):\n",
        "        for _ in range(2):\n",
        "            for p in self.players:\n",
        "                p.hand.append(self.deck.draw())\n",
        "\n",
        "    def play_round(self):\n",
        "        self.deal()\n",
        "        for p in self.players:\n",
        "            print(f\"{p.name}'s hand:\", p.hand)"
      ]
    },
    {
      "cell_type": "code",
      "execution_count": 59,
      "metadata": {
        "colab": {
          "base_uri": "https://localhost:8080/"
        },
        "id": "ZxQTmhXkaRxy",
        "outputId": "d5f4e1b9-7c3b-4fce-bd4d-5d91adc90a4a"
      },
      "outputs": [
        {
          "output_type": "stream",
          "name": "stdout",
          "text": [
            "Round 1:\n",
            "Dealer's hand: [3 of Hearts, 10 of Diamonds]\n",
            "Dealer's hand: [8 of Diamonds, Jack of Hearts]\n",
            "Dealer's hand: [3 of Diamonds, 7 of Diamonds]\n",
            "Dealer's hand: [Ace of Spades, 9 of Clubs]\n",
            "Human's hand: [Queen of Spades, Jack of Spades]\n",
            "\n",
            "Round 2:\n",
            "Dealer's hand: [3 of Hearts, 10 of Diamonds, 3 of Spades, 8 of Spades]\n",
            "Dealer's hand: [8 of Diamonds, Jack of Hearts, 2 of Diamonds, 3 of Clubs]\n",
            "Dealer's hand: [3 of Diamonds, 7 of Diamonds, 5 of Hearts, 2 of Clubs]\n",
            "Dealer's hand: [Ace of Spades, 9 of Clubs, Jack of Clubs, 5 of Clubs]\n",
            "Human's hand: [Queen of Spades, Jack of Spades, Ace of Hearts, 6 of Spades]\n",
            "\n",
            "Round 3:\n",
            "Dealer's hand: [3 of Hearts, 10 of Diamonds, 3 of Spades, 8 of Spades, 4 of Clubs, King of Spades]\n",
            "Dealer's hand: [8 of Diamonds, Jack of Hearts, 2 of Diamonds, 3 of Clubs, King of Diamonds, Jack of Diamonds]\n",
            "Dealer's hand: [3 of Diamonds, 7 of Diamonds, 5 of Hearts, 2 of Clubs, Queen of Clubs, 2 of Spades]\n",
            "Dealer's hand: [Ace of Spades, 9 of Clubs, Jack of Clubs, 5 of Clubs, 2 of Hearts, 10 of Clubs]\n",
            "Human's hand: [Queen of Spades, Jack of Spades, Ace of Hearts, 6 of Spades, 9 of Spades, 8 of Hearts]\n",
            "\n"
          ]
        }
      ],
      "source": [
        "game = Game(4)\n",
        "\n",
        "for r in range(1, 4):\n",
        "    print(f\"Round {r}:\")\n",
        "    game.play_round()\n",
        "    print()"
      ]
    },
    {
      "cell_type": "markdown",
      "metadata": {
        "id": "l_GrTt4zaRxz"
      },
      "source": [
        "6. Implement a new player with the following strategy:\n",
        "\n",
        "    * Assign each card a value:\n",
        "        * Cards 2 to 6 are +1\n",
        "        * Cards 7 to 9 are 0\n",
        "        * Cards 10 through Ace are -1\n",
        "    * Compute the sum of the values for all cards seen so far.\n",
        "    * Hit if sum is very negative, stay if sum is very positive. Select a threshold for hit/stay, e.g. 0 or -2.  "
      ]
    },
    {
      "cell_type": "code",
      "execution_count": 60,
      "metadata": {
        "colab": {
          "base_uri": "https://localhost:8080/"
        },
        "id": "WFFlWyGMaRxz",
        "outputId": "44406717-eed3-472e-8bb2-7e5efd3b7edf"
      },
      "outputs": [
        {
          "output_type": "stream",
          "name": "stdout",
          "text": [
            "Decision: Stay\n"
          ]
        }
      ],
      "source": [
        "\n",
        "\n",
        "class Card:\n",
        "    def __init__(self, suit, rank):\n",
        "        self.suit = suit\n",
        "        self.rank = rank\n",
        "\n",
        "    def __repr__(self):\n",
        "        return f\"{self.rank} of {self.suit}\"\n",
        "\n",
        "    def card_value(self):\n",
        "        value = -1\n",
        "\n",
        "        if self.rank == 'Ace':\n",
        "            value = -1\n",
        "        elif 2 <= int(self.rank) <= 6:\n",
        "            value = 1\n",
        "        elif 7 <= int(self.rank) <= 9:\n",
        "            value = 0\n",
        "        return value\n",
        "\n",
        "class CountingPlayer(Player):\n",
        "    def __init__(self, name):\n",
        "        super().__init__(name)\n",
        "        self.threshold = -2\n",
        "        self.count = 0\n",
        "\n",
        "    def update_count(self, card):\n",
        "        self.count += card.card_value()\n",
        "\n",
        "    def decide(self):\n",
        "        return \"Hit\" if self.count <= self.threshold else \"Stay\"\n",
        "\n",
        "player = CountingPlayer(\"Counting Player\")\n",
        "cards = [Card('Hearts', '2'), Card('Spades', '9'), Card('Clubs', 'Ace')]\n",
        "\n",
        "for card in cards:\n",
        "    player.update_count(card)\n",
        "\n",
        "print(\"Decision:\", player.decide())\n"
      ]
    },
    {
      "cell_type": "code",
      "execution_count": 61,
      "metadata": {
        "id": "CurAGpiAaRx0"
      },
      "outputs": [],
      "source": [
        "### final answer\n",
        "class Card:\n",
        "    def __init__(self, suit, rank):\n",
        "        self.suit = suit\n",
        "        self.rank = rank\n",
        "\n",
        "    def __repr__(self):\n",
        "        return f\"{self.rank} of {self.suit}\"\n",
        "\n",
        "    def card_value(self):\n",
        "        value = -1\n",
        "\n",
        "        if self.rank == 'Ace':\n",
        "            value = -1\n",
        "        elif 2 <= int(self.rank) <= 6:\n",
        "            value = 1\n",
        "        elif 7 <= int(self.rank) <= 9:\n",
        "            value = 0\n",
        "        return value\n",
        "\n",
        "class CountingPlayer(Player):\n",
        "    def __init__(self, name):\n",
        "        super().__init__(name)\n",
        "        self.threshold = -2\n",
        "        self.count = 0\n",
        "\n",
        "    def update_count(self, card):\n",
        "        self.count += card.card_value()\n",
        "\n",
        "    def decide(self):\n",
        "        return \"Hit\" if self.count <= self.threshold else \"Stay\""
      ]
    },
    {
      "cell_type": "code",
      "execution_count": 62,
      "metadata": {
        "colab": {
          "base_uri": "https://localhost:8080/"
        },
        "id": "ak40s1a4aRx0",
        "outputId": "3f95cc1a-07bc-4c2c-8e14-eb0263055751"
      },
      "outputs": [
        {
          "output_type": "stream",
          "name": "stdout",
          "text": [
            "Decision: Hit\n"
          ]
        }
      ],
      "source": [
        "player = CountingPlayer(\"Counting Player\")\n",
        "cards = [Card('Hearts', '1'), Card('Spades', '9'), Card('Clubs', 'Ace')]\n",
        "\n",
        "for card in cards:\n",
        "    player.update_count(card)\n",
        "\n",
        "print(\"Decision:\", player.decide())"
      ]
    },
    {
      "cell_type": "markdown",
      "metadata": {
        "id": "m7DfIZjiaRx1"
      },
      "source": [
        "7. Create a test scenario where one player, using the above strategy, is playing with a dealer and 3 other players that follow the dealer's strategy. Each player starts with same number of chips. Play 50 rounds (or until the strategy player is out of money). Compute the strategy player's winnings. You may remove unnecessary printouts from your code (perhaps implement a verbose/quiet mode) to reduce the output."
      ]
    },
    {
      "cell_type": "code",
      "execution_count": 63,
      "metadata": {
        "id": "n9xglBXgaRx2"
      },
      "outputs": [],
      "source": [
        "class Card:\n",
        "    def __init__(self, suit, rank):\n",
        "        self.suit = suit\n",
        "        self.rank = rank\n",
        "\n",
        "    def __repr__(self):\n",
        "        return f\"{self.rank} of {self.suit}\"\n",
        "\n",
        "    def card_value(self):\n",
        "\n",
        "        # Assign values to cards for the game\n",
        "        if self.rank in ('Ace', '2', '3', '4', '5', '6'):\n",
        "            return 1\n",
        "        elif self.rank in ('7', '8', '9'):\n",
        "            return 0\n",
        "        else:\n",
        "            return -1\n",
        "\n",
        "class Player:\n",
        "    def __init__(self, name, chips=100):\n",
        "\n",
        "        # Initialize player with a name and chips\n",
        "        self.name = name\n",
        "        self.chips = chips\n",
        "        self.hand = []\n",
        "\n",
        "    def bet(self):\n",
        "\n",
        "        # Each player bets 1 chip per round\n",
        "        return 1\n",
        "\n",
        "    def win(self, amount):\n",
        "\n",
        "        # Add chips when player wins\n",
        "        self.chips += amount\n",
        "\n",
        "    def lose(self, amount):\n",
        "\n",
        "        # Subtract chips when player loses\n",
        "        self.chips -= amount\n",
        "\n",
        "class CountingPlayer(Player):\n",
        "    def __init__(self, name):\n",
        "        super().__init__(name)\n",
        "        self.threshold = -2\n",
        "        self.count = 0\n",
        "\n",
        "    def update_count(self, card):\n",
        "\n",
        "        # Update card count based on card value\n",
        "        self.count += card.card_value()\n",
        "\n",
        "    def decide(self):\n",
        "\n",
        "        # Decide to hit or stay based on card count\n",
        "        return \"Hit\" if self.count <= self.threshold else \"Stay\"\n",
        "\n",
        "class Dealer(Player):\n",
        "    def decide(self):\n",
        "\n",
        "        # Dealer hits if hand value is less than 17\n",
        "        hand_value = sum(card.card_value() for card in self.hand)\n",
        "        return \"Hit\" if hand_value < 17 else \"Stay\"\n",
        "\n",
        "def simulate_round(players, deck):\n",
        "\n",
        "    # Check if there are enough cards in the deck\n",
        "    if len(deck) < (len(players) * 2 + 1):\n",
        "        return\n",
        "\n",
        "    # Deals cards to players and dealer\n",
        "    for player in players:\n",
        "        player.hand = [deck.pop(), deck.pop()]\n",
        "\n",
        "    dealer = players[0]\n",
        "    dealer.hand.append(deck.pop())\n",
        "\n",
        "    # Players either hit or stay\n",
        "    for player in players[1:]:\n",
        "        while isinstance(player, CountingPlayer) and player.decide() == \"Hit\" and len(deck) > 0:\n",
        "            player.hand.append(deck.pop())\n",
        "\n",
        "    # Dealer decides to hit or stay\n",
        "    while isinstance(dealer, Dealer) and dealer.decide() == \"Hit\" and len(deck) > 0:\n",
        "        dealer.hand.append(deck.pop())\n",
        "\n",
        "    # Calculates hand values and who are the winners/losers\n",
        "    dealer_value = sum(card.card_value() for card in dealer.hand)\n",
        "    for player in players[1:]:\n",
        "        if isinstance(player, CountingPlayer):\n",
        "            player_value = sum(card.card_value() for card in player.hand)\n",
        "            if player_value > 21 or (dealer_value <= 21 and dealer_value > player_value):\n",
        "                player.lose(player.bet())\n",
        "            elif player_value == dealer_value:\n",
        "                pass\n",
        "            else:\n",
        "                player.win(player.bet())"
      ]
    },
    {
      "cell_type": "code",
      "execution_count": 64,
      "metadata": {
        "colab": {
          "base_uri": "https://localhost:8080/"
        },
        "id": "IjFv-FvJaRx3",
        "outputId": "de0b555e-4978-48be-8bcd-97c93223889e"
      },
      "outputs": [
        {
          "output_type": "stream",
          "name": "stdout",
          "text": [
            "Strategy Player's Winnings: -1\n"
          ]
        }
      ],
      "source": [
        "def simulate_game():\n",
        "\n",
        "    # Initialize players, deck, and shuffles deck\n",
        "    dealer = Dealer(\"Dealer\")\n",
        "    strategy_player = CountingPlayer(\"Strategy Player\")\n",
        "    other_players = [Player(f\"Player {i+1}\") for i in range(3)]\n",
        "    players = [dealer, strategy_player] + other_players\n",
        "    deck = [Card(suit, str(rank)) for suit in ['Hearts', 'Diamonds', 'Clubs', 'Spades'] for rank in range(1, 14)]\n",
        "    random.shuffle(deck)\n",
        "\n",
        "    rounds = 0\n",
        "    # Simulate rounds until reaching 50 or strategy player runs out of chips\n",
        "    while rounds < 50 and strategy_player.chips > 0:\n",
        "        rounds += 1\n",
        "        simulate_round(players, deck)\n",
        "\n",
        "    # Return strategy player's winnings after 50 rounds\n",
        "    return strategy_player.chips - 100\n",
        "\n",
        "winnings = simulate_game()\n",
        "print(\"Strategy Player's Winnings:\", winnings)\n"
      ]
    },
    {
      "cell_type": "markdown",
      "metadata": {
        "id": "xCNRR4tWaRx4"
      },
      "source": [
        "8. Create a loop that runs 100 games of 50 rounds, as setup in previous question, and store the strategy player's chips at the end of the game (aka \"winnings\") in a list. Histogram the winnings. What is the average winnings per round? What is the standard deviation. What is the probabilty of net winning or lossing after 50 rounds?\n"
      ]
    },
    {
      "cell_type": "code",
      "execution_count": 65,
      "metadata": {
        "id": "McYaT14WaRx4"
      },
      "outputs": [],
      "source": [
        "import random\n",
        "import numpy as np\n",
        "import matplotlib.pyplot as plt\n",
        "\n",
        "class Card:\n",
        "    def __init__(self, suit, rank):\n",
        "        self.suit = suit\n",
        "        self.rank = rank\n",
        "\n",
        "    def __repr__(self):\n",
        "        return f\"{self.rank} of {self.suit}\"\n",
        "\n",
        "    def card_value(self):\n",
        "        if self.rank in ('Ace', '2', '3', '4', '5', '6'):\n",
        "            return 1\n",
        "        elif self.rank in ('7', '8', '9'):\n",
        "            return 0\n",
        "        else:\n",
        "            return -1\n",
        "\n",
        "class Player:\n",
        "    def __init__(self, name, chips=100):\n",
        "        self.name = name\n",
        "        self.chips = chips\n",
        "        self.hand = []\n",
        "\n",
        "    def bet(self):\n",
        "        return 1\n",
        "\n",
        "    def win(self, amount):\n",
        "        self.chips += amount\n",
        "\n",
        "    def lose(self, amount):\n",
        "        self.chips -= amount\n",
        "\n",
        "class CountingPlayer(Player):\n",
        "    def __init__(self, name):\n",
        "        super().__init__(name)\n",
        "        self.threshold = -2\n",
        "        self.count = 0\n",
        "\n",
        "    def update_count(self, card):\n",
        "        self.count += card.card_value()\n",
        "\n",
        "    def decide(self):\n",
        "        return \"Hit\" if self.count <= self.threshold else \"Stay\"\n",
        "\n",
        "class Dealer(Player):\n",
        "    def decide(self):\n",
        "        hand_value = sum(card.card_value() for card in self.hand)\n",
        "        return \"Hit\" if hand_value < 17 else \"Stay\"\n",
        "\n",
        "def simulate_round(players, deck):\n",
        "    if len(deck) < (len(players) * 2 + 1):\n",
        "        return\n",
        "\n",
        "    for player in players:\n",
        "        player.hand = [deck.pop(), deck.pop()]\n",
        "\n",
        "    dealer = players[0]\n",
        "    dealer.hand.append(deck.pop())\n",
        "\n",
        "    for player in players[1:]:\n",
        "        while isinstance(player, CountingPlayer) and player.decide() == \"Hit\" and len(deck) > 0:\n",
        "            player.hand.append(deck.pop())\n",
        "\n",
        "    while isinstance(dealer, Dealer) and dealer.decide() == \"Hit\" and len(deck) > 0:\n",
        "        dealer.hand.append(deck.pop())\n",
        "\n",
        "    dealer_value = sum(card.card_value() for card in dealer.hand)\n",
        "    for player in players[1:]:\n",
        "        if isinstance(player, CountingPlayer):\n",
        "            player_value = sum(card.card_value() for card in player.hand)\n",
        "            if player_value > 21 or (dealer_value <= 21 and dealer_value > player_value):\n",
        "                player.lose(player.bet())\n",
        "            elif player_value == dealer_value:\n",
        "                pass\n",
        "            else:\n",
        "                player.win(player.bet())\n",
        "\n",
        "def simulate_game():\n",
        "    dealer = Dealer(\"Dealer\")\n",
        "    strategy_player = CountingPlayer(\"Strategy Player\")\n",
        "    other_players = [Player(f\"Player {i+1}\") for i in range(3)]\n",
        "    players = [dealer, strategy_player] + other_players\n",
        "    deck = [Card(suit, str(rank)) for suit in ['Hearts', 'Diamonds', 'Clubs', 'Spades'] for rank in range(1, 14)]\n",
        "    random.shuffle(deck)\n",
        "\n",
        "    rounds = 0\n",
        "    while rounds < 50 and strategy_player.chips > 0:\n",
        "        rounds += 1\n",
        "        simulate_round(players, deck)\n",
        "\n",
        "    return strategy_player.chips - 100"
      ]
    },
    {
      "cell_type": "code",
      "execution_count": 66,
      "metadata": {
        "colab": {
          "base_uri": "https://localhost:8080/",
          "height": 541
        },
        "id": "E1Rw4ABXaRx5",
        "outputId": "516eebaf-a941-4be2-bfbe-b99353503ae6"
      },
      "outputs": [
        {
          "output_type": "display_data",
          "data": {
            "text/plain": [
              "<Figure size 640x480 with 1 Axes>"
            ],
            "image/png": "[encoded data removed]"
          },
          "metadata": {}
        },
        {
          "output_type": "stream",
          "name": "stdout",
          "text": [
            "Average Winnings per Round: 0.0022\n",
            "Standard Deviation of Winnings: 0.9262289133902052\n",
            "Probability of Net Winning after playing 50 rounds: 0.49\n",
            "Probability of Net Losing after playing 50 rounds: 0.38\n"
          ]
        }
      ],
      "source": [
        "import numpy as np\n",
        "import matplotlib.pyplot as plt\n",
        "\n",
        "# For 100 games\n",
        "\n",
        "game_results = []\n",
        "for _ in range(100):\n",
        "    winnings = simulate_game()\n",
        "    game_results.append(winnings)\n",
        "\n",
        "# Histogram of winnings\n",
        "\n",
        "plt.hist(game_results, bins=20, color='green')\n",
        "plt.xlabel(\"Wins\")\n",
        "plt.ylabel(\"Frequency\")\n",
        "plt.title(\"Histogram of Player's Winnings\")\n",
        "plt.show()\n",
        "\n",
        "# Mean of wins per round\n",
        "average_win = np.mean(game_results) / 50\n",
        "print(\"Average Winnings per Round:\", average_win)\n",
        "\n",
        "# STDev of winnings\n",
        "std_win = np.std(game_results)\n",
        "print(\"Standard Deviation of Winnings:\", std_win)\n",
        "\n",
        "# Calculate probability of net winning or losing after 50 rounds\n",
        "prob_net_win = sum(1 for result in game_results if result > 0) / len(game_results)\n",
        "prob_net_lost = sum(1 for result in game_results if result < 0) / len(game_results)\n",
        "print(\"Probability of Net Winning after playing 50 rounds:\", prob_net_win)\n",
        "print(\"Probability of Net Losing after playing 50 rounds:\", prob_net_lost)\n"
      ]
    },
    {
      "cell_type": "markdown",
      "metadata": {
        "id": "XvPIBBzPaRx6"
      },
      "source": [
        "9. Repeat previous questions scanning the value of the threshold. Try at least 5 different threshold values. Can you find an optimal value?"
      ]
    },
    {
      "cell_type": "code",
      "execution_count": 67,
      "metadata": {
        "id": "Na9dXjZGaRx7"
      },
      "outputs": [],
      "source": [
        "\n",
        "\n",
        "class Card:\n",
        "    def __init__(self, suit, rank):\n",
        "        self.suit = suit\n",
        "        self.rank = rank\n",
        "\n",
        "    def card_value(self):\n",
        "        if self.rank in ('Ace', '2', '3', '4', '5', '6'):\n",
        "            return 1\n",
        "        elif self.rank in ('7', '8', '9'):\n",
        "            return 0\n",
        "        else:\n",
        "            return -1\n",
        "\n",
        "class Player:\n",
        "    def __init__(self, chips=100):\n",
        "        self.chips = chips\n",
        "\n",
        "    def bet(self):\n",
        "        return 1\n",
        "\n",
        "    def win(self, amount):\n",
        "        self.chips += amount\n",
        "\n",
        "    def lose(self, amount):\n",
        "        self.chips -= amount\n",
        "\n",
        "class CountingPlayer(Player):\n",
        "    def __init__(self, threshold):\n",
        "        super().__init__()\n",
        "        self.threshold = threshold\n",
        "        self.count = 0\n",
        "\n",
        "    def decide(self):\n",
        "        return \"Hit\" if self.count <= self.threshold else \"Stay\"\n",
        "\n",
        "class Dealer(Player):\n",
        "    def decide(self):\n",
        "        hand_value = sum(card.card_value() for card in self.hand)\n",
        "        return \"Hit\" if hand_value < 17 else \"Stay\"\n",
        "\n",
        "def simulate_round(players, deck):\n",
        "    for player in players:\n",
        "        player.hand = [deck.pop(), deck.pop()]\n",
        "\n",
        "    dealer = players[0]\n",
        "    dealer.hand.append(deck.pop())\n",
        "\n",
        "    for player in players[1:]:\n",
        "        while isinstance(player, CountingPlayer) and player.decide() == \"Hit\" and deck:\n",
        "            player.hand.append(deck.pop())\n",
        "\n",
        "    while isinstance(dealer, Dealer) and dealer.decide() == \"Hit\" and deck:\n",
        "        dealer.hand.append(deck.pop())\n",
        "\n",
        "    dealer_value = sum(card.card_value() for card in dealer.hand)\n",
        "    for player in players[1:]:\n",
        "        if isinstance(player, CountingPlayer):\n",
        "            player_value = sum(card.card_value() for card in player.hand)\n",
        "            if player_value > 21 or (dealer_value <= 21 and dealer_value > player_value):\n",
        "                player.lose(player.bet())\n",
        "            elif player_value != dealer_value:\n",
        "                player.win(player.bet())"
      ]
    },
    {
      "cell_type": "code",
      "execution_count": 68,
      "metadata": {
        "colab": {
          "base_uri": "https://localhost:8080/"
        },
        "id": "dx46pSMWaRx8",
        "outputId": "8be7e9fc-536a-4b60-f66d-55bae0d8f806"
      },
      "outputs": [
        {
          "output_type": "stream",
          "name": "stdout",
          "text": [
            "Optimal Threshold Value: -3\n"
          ]
        }
      ],
      "source": [
        "def simulate_game(threshold):\n",
        "    dealer = Dealer()\n",
        "    strategy_player = CountingPlayer(threshold)\n",
        "    other_players = [Player() for _ in range(3)]\n",
        "    players = [dealer, strategy_player] + other_players\n",
        "    deck = [Card(suit, str(rank)) for suit in ['Hearts', 'Diamonds', 'Clubs', 'Spades'] for rank in range(1, 14)]\n",
        "    random.shuffle(deck)\n",
        "\n",
        "    for _ in range(50):\n",
        "        if deck:  # Making sure deck is not empty\n",
        "            simulate_round(players, deck)\n",
        "        else:\n",
        "            break  # Stops when deck is empty\n",
        "\n",
        "    return strategy_player.chips - 100\n",
        "\n",
        "\n",
        "threshold_values = [-3, -2, -1, 0, 2]  # 1st Threshold values\n",
        "average_winnings_per_rounds = []\n",
        "\n",
        "for threshold in threshold_values:\n",
        "    game_results = [simulate_game(threshold) for _ in range(100)] # 100 games for each threshold\n",
        "    avg_win = np.mean(game_results) / 50\n",
        "    average_winnings_per_rounds.append(avg_win)\n",
        "\n",
        "optimal_threshold_index = np.argmax(avg_win)\n",
        "optimal_threshold = threshold_values[optimal_threshold_index]\n",
        "\n",
        "print(\"Optimal Threshold Value:\", optimal_threshold)\n"
      ]
    },
    {
      "cell_type": "code",
      "execution_count": 69,
      "metadata": {
        "colab": {
          "base_uri": "https://localhost:8080/"
        },
        "id": "F5NeOmoyaRx-",
        "outputId": "b625ed41-9086-4686-84ca-23bbbf45902e"
      },
      "outputs": [
        {
          "output_type": "stream",
          "name": "stdout",
          "text": [
            "Optimal Threshold Value: -4\n"
          ]
        }
      ],
      "source": [
        "threshold_values = [-4, -2, 0, 1, 2]  # 1st Threshold values\n",
        "avg_win = []\n",
        "\n",
        "for threshold in threshold_values:\n",
        "    game_results = [simulate_game(threshold) for _ in range(100)] # 100 games for each threshold\n",
        "    avg_win = np.mean(game_results) / 50\n",
        "    average_winnings_per_rounds.append(avg_win)\n",
        "\n",
        "optimal_threshold_index = np.argmax(avg_win)\n",
        "optimal_threshold = threshold_values[optimal_threshold_index]\n",
        "\n",
        "print(\"Optimal Threshold Value:\", optimal_threshold)\n"
      ]
    },
    {
      "cell_type": "code",
      "execution_count": 70,
      "metadata": {
        "colab": {
          "base_uri": "https://localhost:8080/"
        },
        "id": "t1IM3SzEaRx-",
        "outputId": "9b4e6a90-d7cb-4ffe-8b42-34fb8688a0f4"
      },
      "outputs": [
        {
          "output_type": "stream",
          "name": "stdout",
          "text": [
            "Optimal Threshold Value: -1\n"
          ]
        }
      ],
      "source": [
        "threshold_values = [-1, 0, 1, 2, 3]  # 1st Threshold values\n",
        "avg_win = []\n",
        "\n",
        "for threshold in threshold_values:\n",
        "    game_results = [simulate_game(threshold) for _ in range(100)] # 100 games for each threshold\n",
        "    avg_win = np.mean(game_results) / 50\n",
        "    average_winnings_per_rounds.append(avg_win)\n",
        "\n",
        "optimal_threshold_index = np.argmax(avg_win)\n",
        "optimal_threshold = threshold_values[optimal_threshold_index]\n",
        "\n",
        "print(\"Optimal Threshold Value:\", optimal_threshold)\n"
      ]
    },
    {
      "cell_type": "code",
      "execution_count": 71,
      "metadata": {
        "colab": {
          "base_uri": "https://localhost:8080/"
        },
        "id": "ogcFSkjlaRx_",
        "outputId": "b7e93cc4-94f0-4923-bf2f-20a7c3830350"
      },
      "outputs": [
        {
          "output_type": "stream",
          "name": "stdout",
          "text": [
            "Optimal Threshold Value: 0\n"
          ]
        }
      ],
      "source": [
        "threshold_values = [0, 1, 2, 3, 4, 5]  # 1st Threshold values\n",
        "avg_win = []\n",
        "\n",
        "for threshold in threshold_values:\n",
        "    game_results = [simulate_game(threshold) for _ in range(100)] # 100 games for each threshold\n",
        "    avg_win = np.mean(game_results) / 50\n",
        "    average_winnings_per_rounds.append(avg_win)\n",
        "\n",
        "optimal_threshold_index = np.argmax(avg_win)\n",
        "optimal_threshold = threshold_values[optimal_threshold_index]\n",
        "\n",
        "print(\"Optimal Threshold Value:\", optimal_threshold)\n"
      ]
    },
    {
      "cell_type": "code",
      "execution_count": 72,
      "metadata": {
        "colab": {
          "base_uri": "https://localhost:8080/"
        },
        "id": "uW-QkwRxaRyA",
        "outputId": "71053da7-d7d8-4063-dc9e-d9eaa9562a28"
      },
      "outputs": [
        {
          "output_type": "stream",
          "name": "stdout",
          "text": [
            "Optimal Threshold Value: -5\n"
          ]
        }
      ],
      "source": [
        "threshold_values = [-5, -4, -3, -2, -1]  # 1st Threshold values\n",
        "avg_win = []\n",
        "\n",
        "for threshold in threshold_values:\n",
        "    game_results = [simulate_game(threshold) for _ in range(100)] # 100 games for each threshold\n",
        "    avg_win = np.mean(game_results) / 50\n",
        "    average_winnings_per_rounds.append(avg_win)\n",
        "\n",
        "optimal_threshold_index = np.argmax(avg_win)\n",
        "optimal_threshold = threshold_values[optimal_threshold_index]\n",
        "\n",
        "print(\"Optimal Threshold Value:\", optimal_threshold)\n"
      ]
    },
    {
      "cell_type": "markdown",
      "metadata": {
        "id": "zPXKu-MXaRyC"
      },
      "source": [
        "10. Create a new strategy based on web searches or your own ideas. Demonstrate that the new strategy will result in increased or decreased winnings."
      ]
    },
    {
      "cell_type": "code",
      "source": [
        "class Card:\n",
        "    def __init__(self, suit, rank):\n",
        "        self.suit, self.rank = suit, rank\n",
        "    def card_value(self):\n",
        "\n",
        "      ## Using the card rank to assign the values\n",
        "        return 1 if self.rank in '234567' else 0 if self.rank in '789' else -1\n",
        "\n",
        "class Player:\n",
        "    def __init__(self, chips=100):\n",
        "        self.chips = chips\n",
        "    def bet(self):\n",
        "        return 1\n",
        "    def win(self, amount):\n",
        "\n",
        "      ## Number of chips deciding whether player wins or not\n",
        "        self.chips += amount\n",
        "    def lose(self, amount):\n",
        "        self.chips -= amount\n",
        "\n",
        "class CountingPlayer(Player):\n",
        "    def __init__(self, threshold):\n",
        "        super().__init__()\n",
        "        self.threshold = threshold\n",
        "    def decide(self, hand_value):\n",
        "\n",
        "      ## Using hand value to hit or stand\n",
        "        return \"Stay\" if hand_value >= 18 else \"Hit\"\n",
        "\n",
        "class Dealer(Player):\n",
        "    def decide(self):\n",
        "        return \"Stay\" if sum(c.card_value() for c in self.hand) >= 17 else \"Hit\"\n",
        "\n",
        "def simulate_round(players, deck):\n",
        "    for player in players:\n",
        "        player.hand = [deck.pop() for _ in range(2)]\n",
        "    dealer = players[0]\n",
        "    dealer.hand.append(deck.pop())\n",
        "    for player in players[1:]:\n",
        "        while isinstance(player, CountingPlayer) and player.decide(sum(c.card_value() for c in player.hand)) == \"Hit\" and deck:\n",
        "            player.hand.append(deck.pop())\n",
        "\n",
        "            ## You can hit until the deck is empty or til you stand\n",
        "    while isinstance(dealer, Dealer) and dealer.decide() == \"Hit\" and deck:\n",
        "        dealer.hand.append(deck.pop())\n",
        "    dealer_value = sum(c.card_value() for c in dealer.hand)\n",
        "    for player in players[1:]:\n",
        "        if isinstance(player, CountingPlayer):\n",
        "            player_value = sum(c.card_value() for c in player.hand)\n",
        "            if player_value > 21 or (dealer_value <= 21 and dealer_value > player_value): ## Lose if dealer's hand is higher or if you're busted\n",
        "                player.lose(player.bet())\n",
        "            elif player_value != dealer_value:\n",
        "                player.win(player.bet())\n",
        "\n",
        "def simulate_game(threshold):\n",
        "    dealer = Dealer()\n",
        "    strategy_player = CountingPlayer(threshold)\n",
        "    other_players = [Player() for _ in range(3)]\n",
        "    players = [dealer, strategy_player] + other_players\n",
        "    deck = [Card(s, str(r)) for s in 'Hearts Diamonds Clubs Spades'.split() for r in range(1, 14)]\n",
        "    random.shuffle(deck)\n",
        "    for _ in range(50):\n",
        "        if deck:\n",
        "            simulate_round(players, deck)\n",
        "        else:\n",
        "            break\n",
        "    return strategy_player.chips - 100"
      ],
      "metadata": {
        "id": "MfvTrxw_lbwz"
      },
      "execution_count": 73,
      "outputs": []
    },
    {
      "cell_type": "code",
      "source": [
        "threshold_values = [-5, -4, -3, -2, -1]\n",
        "avg_win_new= [np.mean([simulate_game(th) for _ in range(100)]) / 50 for th in threshold_values]\n",
        "optimal_threshold = threshold_values[np.argmax(avg_win_new)]\n",
        "\n",
        "print(\"Improved Method - Optimal Threshold Value:\", optimal_threshold)"
      ],
      "metadata": {
        "colab": {
          "base_uri": "https://localhost:8080/"
        },
        "id": "DBqq4Gngmyly",
        "outputId": "e52632bf-ddc1-4f41-f783-b1f0db9eee1a"
      },
      "execution_count": 74,
      "outputs": [
        {
          "output_type": "stream",
          "name": "stdout",
          "text": [
            "Improved Method - Optimal Threshold Value: -3\n"
          ]
        }
      ]
    },
    {
      "cell_type": "code",
      "source": [
        "# Based on the same numbers used on question 9, the new method works better.\n",
        "## Q9 method has a smaller value of -5, whereas Q10 has it as -4."
      ],
      "metadata": {
        "id": "dB2ZBrb1m6Kk"
      },
      "execution_count": 75,
      "outputs": []
    }
  ],
  "metadata": {
    "kernelspec": {
      "display_name": "Python 3 (ipykernel)",
      "language": "python",
      "name": "python3"
    },
    "language_info": {
      "codemirror_mode": {
        "name": "ipython",
        "version": 3
      },
      "file_extension": ".py",
      "mimetype": "text/x-python",
      "name": "python",
      "nbconvert_exporter": "python",
      "pygments_lexer": "ipython3",
      "version": "3.10.12"
    },
    "colab": {
      "provenance": []
    }
  },
  "nbformat": 4,
  "nbformat_minor": 0
}