{
 "cells": [
  {
   "cell_type": "code",
   "execution_count": null,
   "id": "f10a4b1d-8a75-4a99-966a-48fbb28c2bf1",
   "metadata": {},
   "outputs": [],
   "source": [
    "## Write a function make_deck that returns a list of all of the cards in a standard card deck. \n",
    "## The return should be a list of tuples of pairs of suit and value. For example the 10 of Clubs would be ('Clubs',10) and Queen of Hearts would be ('Hearts', 'Queen'). Recall that a deck has 52 cards, divided into 4 suits (Clubs, Diamonds, Hearts, and Spades),\n",
    "## and that each suit has 13 cards: 2 to 10, Jack, Queen, King, and Ace. Submit your solution with Lab 2."
   ]
  },
  {
   "cell_type": "code",
   "execution_count": 4,
   "id": "2d88763d-b56d-4539-bb9d-8c6167580fcc",
   "metadata": {},
   "outputs": [],
   "source": [
    "def make_deck():\n",
    "    return [(suit, value) for suit in ['Clubs', 'Diamonds', 'Hearts', 'Spades'] for value in ['2', '3', '4', '5', '6', '7', '8', '9', '10', 'Jack', 'Queen', 'King', 'Ace']]"
   ]
  },
  {
   "cell_type": "code",
   "execution_count": 5,
   "id": "f810fc3f-4661-4181-b129-1a494d5dd8cb",
   "metadata": {},
   "outputs": [
    {
     "name": "stdout",
     "output_type": "stream",
     "text": [
      "2 of Clubs\n",
      "3 of Clubs\n",
      "4 of Clubs\n",
      "5 of Clubs\n",
      "6 of Clubs\n",
      "7 of Clubs\n",
      "8 of Clubs\n",
      "9 of Clubs\n",
      "10 of Clubs\n",
      "Jack of Clubs\n",
      "Queen of Clubs\n",
      "King of Clubs\n",
      "Ace of Clubs\n",
      "2 of Diamonds\n",
      "3 of Diamonds\n",
      "4 of Diamonds\n",
      "5 of Diamonds\n",
      "6 of Diamonds\n",
      "7 of Diamonds\n",
      "8 of Diamonds\n",
      "9 of Diamonds\n",
      "10 of Diamonds\n",
      "Jack of Diamonds\n",
      "Queen of Diamonds\n",
      "King of Diamonds\n",
      "Ace of Diamonds\n",
      "2 of Hearts\n",
      "3 of Hearts\n",
      "4 of Hearts\n",
      "5 of Hearts\n",
      "6 of Hearts\n",
      "7 of Hearts\n",
      "8 of Hearts\n",
      "9 of Hearts\n",
      "10 of Hearts\n",
      "Jack of Hearts\n",
      "Queen of Hearts\n",
      "King of Hearts\n",
      "Ace of Hearts\n",
      "2 of Spades\n",
      "3 of Spades\n",
      "4 of Spades\n",
      "5 of Spades\n",
      "6 of Spades\n",
      "7 of Spades\n",
      "8 of Spades\n",
      "9 of Spades\n",
      "10 of Spades\n",
      "Jack of Spades\n",
      "Queen of Spades\n",
      "King of Spades\n",
      "Ace of Spades\n"
     ]
    }
   ],
   "source": [
    "deck = make_deck()\n",
    "for suit, value in deck:\n",
    "    print(f\"{value} of {suit}\")"
   ]
  }
 ],
 "metadata": {
  "kernelspec": {
   "display_name": "Python 3 (ipykernel)",
   "language": "python",
   "name": "python3"
  },
  "language_info": {
   "codemirror_mode": {
    "name": "ipython",
    "version": 3
   },
   "file_extension": ".py",
   "mimetype": "text/x-python",
   "name": "python",
   "nbconvert_exporter": "python",
   "pygments_lexer": "ipython3",
   "version": "3.10.12"
  }
 },
 "nbformat": 4,
 "nbformat_minor": 5
}
