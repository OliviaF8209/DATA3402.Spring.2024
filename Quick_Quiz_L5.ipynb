{
  "cells": [
    {
      "cell_type": "markdown",
      "metadata": {
        "id": "BbBclbzCy4Q_"
      },
      "source": [
        "# Lecture 5\n",
        "\n",
        "We'll review some basic patterns, to refresh our memories... Then move on to a bit of simple but mind bending python.\n"
      ]
    },
    {
      "cell_type": "markdown",
      "metadata": {
        "id": "st8yA0hxy4TT"
      },
      "source": [
        "## Coding Example"
      ]
    },
    {
      "cell_type": "markdown",
      "metadata": {
        "id": "sn9yUWY9y4TV"
      },
      "source": [
        "Lets show off the power of python with an example. When you take your first physics class, you'll learn the following kinematics equations that allow you to predict position and velocity of objects in one dimension, assuming constant acceleration.\n",
        "\n",
        "* $x = x_0+v_0 t + \\frac{1}{2} a t^2$\n",
        "* $v = v_0+at $\n",
        "\n",
        "We can simply implement these equations as functions in python:"
      ]
    },
    {
      "cell_type": "code",
      "execution_count": null,
      "metadata": {
        "id": "ECbJOU0_y4TX"
      },
      "outputs": [],
      "source": [
        "def x_a_t(a,t,x_0=0.,v_0=0.):\n",
        "    x = x_0 + v_0 * t + 0.5 * a * t**2\n",
        "    return x"
      ]
    },
    {
      "cell_type": "code",
      "execution_count": null,
      "metadata": {
        "id": "4ATXsmyZy4TY"
      },
      "outputs": [],
      "source": [
        "def v_a_t(a,t,v_0=0.):\n",
        "    v=v_0+a*t\n",
        "    return v"
      ]
    },
    {
      "cell_type": "markdown",
      "metadata": {
        "id": "iuYq0v7vy4TY"
      },
      "source": [
        "So for example, the position and velocity of a rock dropped from 10 meters after 1 second is simply:"
      ]
    },
    {
      "cell_type": "code",
      "execution_count": null,
      "metadata": {
        "id": "zpnWLXJby4Ta",
        "outputId": "8f44514b-d3e1-468b-ed2e-5df6a886371b"
      },
      "outputs": [
        {
          "data": {
            "text/plain": [
              "5.1"
            ]
          },
          "execution_count": 7,
          "metadata": {},
          "output_type": "execute_result"
        }
      ],
      "source": [
        "x_a_t(-9.8,1.,x_0=10.,v_0=0.)"
      ]
    },
    {
      "cell_type": "code",
      "execution_count": null,
      "metadata": {
        "id": "6jw2v8Ahy4Te",
        "outputId": "1ce6eacd-4e23-4e52-f0db-a4d8fad8d06b"
      },
      "outputs": [
        {
          "data": {
            "text/plain": [
              "-9.8"
            ]
          },
          "execution_count": 8,
          "metadata": {},
          "output_type": "execute_result"
        }
      ],
      "source": [
        "v_a_t(-9.8,1.)"
      ]
    },
    {
      "cell_type": "markdown",
      "metadata": {
        "id": "w7uCu_WOy4Tf"
      },
      "source": [
        "You'll also learn in physics that two or three dimensional problems are the same as one dimensional ones, treating every dimension independently.\n",
        "\n",
        "You could rewrite these equations for every dimensional case, but in python, we can instead write a function that takes functions and turns them into vector functions.\n",
        "\n",
        "Assuming the x,y,z components of vectors are stored as a list `[x,y,z]`, this function would have to do the following:\n",
        "\n",
        "* Take as argument the function to vectorize. We'll call it $f_0$.\n",
        "* Create a new function that takes the same arguments as $f_0$, but as lists, and then:\n",
        "    * Make sure all the arguments are lists of the same length.\n",
        "        * In case it is not a list, make the argument list will the same value repeated. (In our exmaple time isn't a vector).\n",
        "    * Call $f_0$ on the first element of each list argument, then the second, and so on, sorting the results into an output list.\n",
        "    * Output the list\n",
        "* Return this new function."
      ]
    },
    {
      "cell_type": "markdown",
      "metadata": {
        "id": "LLgFF9dmy4Tg"
      },
      "source": [
        "Lets take this step by step. In order to make sure that all elements are lists of the same length. Lets first figure out the max length of any element. Here is some example code:"
      ]
    },
    {
      "cell_type": "code",
      "execution_count": null,
      "metadata": {
        "id": "O6f8FmPAy4Th",
        "outputId": "239b73c3-130d-49e5-ed3d-92d6a81d17df"
      },
      "outputs": [
        {
          "name": "stdout",
          "output_type": "stream",
          "text": [
            "4\n"
          ]
        }
      ],
      "source": [
        "args= [[1,2],[1,2,3],[1,2,3,4], 1]\n",
        "\n",
        "max_len=0\n",
        "for a in args:\n",
        "    if isinstance(a,list):\n",
        "        max_len=max(max_len,len(a))\n",
        "\n",
        "print(max_len)\n"
      ]
    },
    {
      "cell_type": "markdown",
      "metadata": {
        "id": "aZdWePvTy4Ti"
      },
      "source": [
        "Here is a more compact way of doing the same thing using `filter` and `map`:"
      ]
    },
    {
      "cell_type": "code",
      "execution_count": null,
      "metadata": {
        "id": "SJ6qcmeSy4Tj",
        "outputId": "982194f7-f4e1-4219-e184-81299e7637d4"
      },
      "outputs": [
        {
          "name": "stdout",
          "output_type": "stream",
          "text": [
            "4\n"
          ]
        }
      ],
      "source": [
        "max_len = max(map(len,\n",
        "                  filter(lambda x: isinstance(x,list),\n",
        "                   args)))\n",
        "print(max_len)"
      ]
    },
    {
      "cell_type": "markdown",
      "metadata": {
        "id": "50T-P3eay4Tk"
      },
      "source": [
        "Next, we'll have to check that every argument is of the same length, and make lists out of ones that are not lists:"
      ]
    },
    {
      "cell_type": "code",
      "execution_count": null,
      "metadata": {
        "id": "D9YliNfAy4Tl"
      },
      "outputs": [],
      "source": [
        "def create_new_args(args):\n",
        "    max_len = max(map(len,\n",
        "                      filter(lambda x: isinstance(x,list),\n",
        "                       args)))\n",
        "    new_args=list()\n",
        "\n",
        "    for a in args:\n",
        "        if not isinstance(a,list):\n",
        "            a0=[a]*max_len\n",
        "        elif len(a)!=max_len:\n",
        "            print(\"Error: all list arguments must have same length.\")\n",
        "            return\n",
        "        else:\n",
        "            a0=a\n",
        "        new_args.append(a0)\n",
        "\n",
        "    return new_args"
      ]
    },
    {
      "cell_type": "markdown",
      "metadata": {
        "id": "x9lUiwfsy4Tn"
      },
      "source": [
        "Lets test:"
      ]
    },
    {
      "cell_type": "code",
      "execution_count": null,
      "metadata": {
        "id": "KWdud2RVy4To",
        "outputId": "7c2fd385-52f5-4cb5-9e06-b0db7cfae53b"
      },
      "outputs": [
        {
          "name": "stdout",
          "output_type": "stream",
          "text": [
            "Error: all list arguments must have same length.\n"
          ]
        }
      ],
      "source": [
        "create_new_args([[1,2],[1,2,3],1])"
      ]
    },
    {
      "cell_type": "code",
      "execution_count": null,
      "metadata": {
        "id": "-oQuZurgy4Tq",
        "outputId": "863c0ff0-03d9-4a5a-ba72-019eee5b9e2c"
      },
      "outputs": [
        {
          "data": {
            "text/plain": [
              "[[1, 2], [3, 4], [5, 5]]"
            ]
          },
          "execution_count": 13,
          "metadata": {},
          "output_type": "execute_result"
        }
      ],
      "source": [
        "create_new_args([[1,2],[3,4],5])"
      ]
    },
    {
      "cell_type": "markdown",
      "metadata": {
        "id": "MrbILZ6qy4Ts"
      },
      "source": [
        "### Quick Quiz\n",
        "\n",
        "Can you rewrite `create_new_args` as a two lines of code using functional programming, list comprehensions, and shortcuts? How about a single line?"
      ]
    },
    {
      "cell_type": "code",
      "execution_count": 1,
      "metadata": {
        "id": "7KN5F2Eqy4Tt"
      },
      "outputs": [],
      "source": [
        "def create_new_args_0(args):\n",
        "    max_len = max(map(len,\n",
        "                      filter(lambda x: isinstance(x,list),\n",
        "                        args)))\n",
        "\n",
        "    # Rewrite this section:\n",
        "    new_args=list()\n",
        "\n",
        "    for a in args:\n",
        "        if not isinstance(a,list):\n",
        "            a0=[a]*max_len\n",
        "        elif len(a)!=max_len:\n",
        "            print(\"Error: all list arguments must have same length.\")\n",
        "            return\n",
        "        else:\n",
        "            a0=a\n",
        "        new_args.append(a0)\n",
        "\n",
        "    return new_args"
      ]
    },
    {
      "cell_type": "code",
      "execution_count": 2,
      "metadata": {
        "colab": {
          "base_uri": "https://localhost:8080/"
        },
        "id": "vHdAMi8Zy4Tv",
        "outputId": "1a3fca5a-df86-4c82-9546-1e5d35d82f1f"
      },
      "outputs": [
        {
          "output_type": "execute_result",
          "data": {
            "text/plain": [
              "[[1, 2], [3, 4], [5, 5]]"
            ]
          },
          "metadata": {},
          "execution_count": 2
        }
      ],
      "source": [
        "create_new_args_0([[1,2],[3,4],5])"
      ]
    },
    {
      "cell_type": "code",
      "execution_count": 3,
      "metadata": {
        "colab": {
          "base_uri": "https://localhost:8080/"
        },
        "id": "E0nbRK-jy4Tx",
        "outputId": "3c4b0cc6-f636-4925-b6e8-8e85d39a504e"
      },
      "outputs": [
        {
          "output_type": "stream",
          "name": "stdout",
          "text": [
            "Error: all list arguments must have same length.\n"
          ]
        }
      ],
      "source": [
        "create_new_args_0([[1,2],[3,4,5],5])"
      ]
    },
    {
      "cell_type": "markdown",
      "source": [
        "##**Response to questions**"
      ],
      "metadata": {
        "id": "apRuznLD0ivm"
      }
    },
    {
      "cell_type": "code",
      "source": [
        "def create_new_args(args):\n",
        "\n",
        "    max_len = max(map(len, filter(lambda x: isinstance(x, list), args)))\n",
        "\n",
        "    new_args = []\n",
        "\n",
        "    for a in args:\n",
        "\n",
        "        if not isinstance(a, list):\n",
        "            a0 = [a] * max_len\n",
        "\n",
        "        elif len(a) == max_len:\n",
        "            a0 = a\n",
        "\n",
        "        else:\n",
        "            print(\"Error: all list arguments must have the same length.\")\n",
        "            return\n",
        "        new_args.append(a0)\n",
        "\n",
        "    return new_args\n"
      ],
      "metadata": {
        "id": "HVynUY191gDc"
      },
      "execution_count": 11,
      "outputs": []
    },
    {
      "cell_type": "code",
      "source": [
        "create_new_args_0([[1,2],[3,4],5])"
      ],
      "metadata": {
        "colab": {
          "base_uri": "https://localhost:8080/"
        },
        "id": "wkIWARLB01IY",
        "outputId": "56792aac-b484-4e03-87b7-6f438a82c145"
      },
      "execution_count": 12,
      "outputs": [
        {
          "output_type": "execute_result",
          "data": {
            "text/plain": [
              "[[1, 2], [3, 4], [5, 5]]"
            ]
          },
          "metadata": {},
          "execution_count": 12
        }
      ]
    },
    {
      "cell_type": "code",
      "source": [
        "create_new_args_0([[1,2],[3,4],5])"
      ],
      "metadata": {
        "colab": {
          "base_uri": "https://localhost:8080/"
        },
        "id": "6bIjbdq803TO",
        "outputId": "26471879-f246-49a8-972d-986ba7d4edde"
      },
      "execution_count": 13,
      "outputs": [
        {
          "output_type": "execute_result",
          "data": {
            "text/plain": [
              "[[1, 2], [3, 4], [5, 5]]"
            ]
          },
          "metadata": {},
          "execution_count": 13
        }
      ]
    }
  ],
  "metadata": {
    "kernelspec": {
      "display_name": "Python 3 (ipykernel)",
      "language": "python",
      "name": "python3"
    },
    "language_info": {
      "codemirror_mode": {
        "name": "ipython",
        "version": 3
      },
      "file_extension": ".py",
      "mimetype": "text/x-python",
      "name": "python",
      "nbconvert_exporter": "python",
      "pygments_lexer": "ipython3",
      "version": "3.9.6"
    },
    "colab": {
      "provenance": []
    }
  },
  "nbformat": 4,
  "nbformat_minor": 0
}